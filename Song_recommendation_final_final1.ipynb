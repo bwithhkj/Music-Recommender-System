{
  "nbformat": 4,
  "nbformat_minor": 0,
  "metadata": {
    "colab": {
      "name": "Copy of music recommendation system.ipynb",
      "provenance": [],
      "include_colab_link": true
    },
    "kernelspec": {
      "name": "python3",
      "display_name": "Python 3"
    }
  },
  "cells": [
    {
      "cell_type": "markdown",
      "metadata": {
        "id": "view-in-github",
        "colab_type": "text"
      },
      "source": [
        "<a href=\"https://colab.research.google.com/github/bwithhkj/Music-Recommender-System/blob/main/Song_recommendation_final_final1.ipynb\" target=\"_parent\"><img src=\"https://colab.research.google.com/assets/colab-badge.svg\" alt=\"Open In Colab\"/></a>"
      ]
    },
    {
      "cell_type": "markdown",
      "metadata": {
        "id": "L-v4MGdoSZrS"
      },
      "source": [
        "MUSIC RECOMMENDATION SYSTEM"
      ]
    },
    {
      "cell_type": "code",
      "metadata": {
        "id": "llztSPYNMKI9"
      },
      "source": [
        " import pandas as pd"
      ],
      "execution_count": 180,
      "outputs": []
    },
    {
      "cell_type": "code",
      "metadata": {
        "id": "XfOAKX-lMewC"
      },
      "source": [
        "import numpy as np"
      ],
      "execution_count": 181,
      "outputs": []
    },
    {
      "cell_type": "code",
      "metadata": {
        "id": "-rIWt4w-Mns_"
      },
      "source": [
        " \n",
        "from sklearn.model_selection import train_test_split\n",
        "import time\n",
        "from sklearn.externals import joblib"
      ],
      "execution_count": 182,
      "outputs": []
    },
    {
      "cell_type": "markdown",
      "metadata": {
        "id": "yguQeAXCObWv"
      },
      "source": [
        "Imported user data and song metadata"
      ]
    },
    {
      "cell_type": "code",
      "metadata": {
        "id": "E-L1COcJOcOx"
      },
      "source": [
        "triplets_file =  'https://static.turi.com/datasets/millionsong/10000.txt'\n",
        "songs_metadata_file = 'https://static.turi.com/datasets/millionsong/song_data.csv'\n",
        "song_df_1 = pd.read_table(triplets_file,header=None)\n",
        "song_df_1.columns = ['user_id', 'song_id', 'listen_count']\n",
        "#Read song metadatasong_df_2 =  pd.read_csv(songs_metadata_file)\n",
        "#Merge the two dataframes above to create input dataframe for recommender systemssong_df = pd.merge(song_df_1, song_df_2.drop_duplicates(['song_id']), on=\"song_id\", how=\"left\")\n",
        "#EXPLORE DATA (This show how many times a user )song_df.head()\n",
        "#Length of the datasetlen(song_df)"
      ],
      "execution_count": 183,
      "outputs": []
    },
    {
      "cell_type": "code",
      "metadata": {
        "id": "tIw6MKONPItz"
      },
      "source": [
        " song_df_2 =  pd.read_csv(songs_metadata_file)"
      ],
      "execution_count": 184,
      "outputs": []
    },
    {
      "cell_type": "code",
      "metadata": {
        "id": "mtBo3nBiPoc9"
      },
      "source": [
        "song_df = pd.merge(song_df_1, song_df_2.drop_duplicates(['song_id']), on=\"song_id\", how=\"left\")"
      ],
      "execution_count": 185,
      "outputs": []
    },
    {
      "cell_type": "code",
      "metadata": {
        "id": "a8NZY7S9P_ky",
        "colab": {
          "base_uri": "https://localhost:8080/",
          "height": 204
        },
        "outputId": "9b22fc28-7664-48cc-f46f-ae10b30d29d8"
      },
      "source": [
        " song_df.head()"
      ],
      "execution_count": 186,
      "outputs": [
        {
          "output_type": "execute_result",
          "data": {
            "text/html": [
              "<div>\n",
              "<style scoped>\n",
              "    .dataframe tbody tr th:only-of-type {\n",
              "        vertical-align: middle;\n",
              "    }\n",
              "\n",
              "    .dataframe tbody tr th {\n",
              "        vertical-align: top;\n",
              "    }\n",
              "\n",
              "    .dataframe thead th {\n",
              "        text-align: right;\n",
              "    }\n",
              "</style>\n",
              "<table border=\"1\" class=\"dataframe\">\n",
              "  <thead>\n",
              "    <tr style=\"text-align: right;\">\n",
              "      <th></th>\n",
              "      <th>user_id</th>\n",
              "      <th>song_id</th>\n",
              "      <th>listen_count</th>\n",
              "      <th>title</th>\n",
              "      <th>release</th>\n",
              "      <th>artist_name</th>\n",
              "      <th>year</th>\n",
              "    </tr>\n",
              "  </thead>\n",
              "  <tbody>\n",
              "    <tr>\n",
              "      <th>0</th>\n",
              "      <td>b80344d063b5ccb3212f76538f3d9e43d87dca9e</td>\n",
              "      <td>SOAKIMP12A8C130995</td>\n",
              "      <td>1</td>\n",
              "      <td>The Cove</td>\n",
              "      <td>Thicker Than Water</td>\n",
              "      <td>Jack Johnson</td>\n",
              "      <td>0</td>\n",
              "    </tr>\n",
              "    <tr>\n",
              "      <th>1</th>\n",
              "      <td>b80344d063b5ccb3212f76538f3d9e43d87dca9e</td>\n",
              "      <td>SOBBMDR12A8C13253B</td>\n",
              "      <td>2</td>\n",
              "      <td>Entre Dos Aguas</td>\n",
              "      <td>Flamenco Para Niños</td>\n",
              "      <td>Paco De Lucia</td>\n",
              "      <td>1976</td>\n",
              "    </tr>\n",
              "    <tr>\n",
              "      <th>2</th>\n",
              "      <td>b80344d063b5ccb3212f76538f3d9e43d87dca9e</td>\n",
              "      <td>SOBXHDL12A81C204C0</td>\n",
              "      <td>1</td>\n",
              "      <td>Stronger</td>\n",
              "      <td>Graduation</td>\n",
              "      <td>Kanye West</td>\n",
              "      <td>2007</td>\n",
              "    </tr>\n",
              "    <tr>\n",
              "      <th>3</th>\n",
              "      <td>b80344d063b5ccb3212f76538f3d9e43d87dca9e</td>\n",
              "      <td>SOBYHAJ12A6701BF1D</td>\n",
              "      <td>1</td>\n",
              "      <td>Constellations</td>\n",
              "      <td>In Between Dreams</td>\n",
              "      <td>Jack Johnson</td>\n",
              "      <td>2005</td>\n",
              "    </tr>\n",
              "    <tr>\n",
              "      <th>4</th>\n",
              "      <td>b80344d063b5ccb3212f76538f3d9e43d87dca9e</td>\n",
              "      <td>SODACBL12A8C13C273</td>\n",
              "      <td>1</td>\n",
              "      <td>Learn To Fly</td>\n",
              "      <td>There Is Nothing Left To Lose</td>\n",
              "      <td>Foo Fighters</td>\n",
              "      <td>1999</td>\n",
              "    </tr>\n",
              "  </tbody>\n",
              "</table>\n",
              "</div>"
            ],
            "text/plain": [
              "                                    user_id  ...  year\n",
              "0  b80344d063b5ccb3212f76538f3d9e43d87dca9e  ...     0\n",
              "1  b80344d063b5ccb3212f76538f3d9e43d87dca9e  ...  1976\n",
              "2  b80344d063b5ccb3212f76538f3d9e43d87dca9e  ...  2007\n",
              "3  b80344d063b5ccb3212f76538f3d9e43d87dca9e  ...  2005\n",
              "4  b80344d063b5ccb3212f76538f3d9e43d87dca9e  ...  1999\n",
              "\n",
              "[5 rows x 7 columns]"
            ]
          },
          "metadata": {
            "tags": []
          },
          "execution_count": 186
        }
      ]
    },
    {
      "cell_type": "code",
      "metadata": {
        "colab": {
          "base_uri": "https://localhost:8080/"
        },
        "id": "3DePi9t6QMhx",
        "outputId": "cfb5fa29-70d1-48e6-d826-83039ab45ea3"
      },
      "source": [
        " len(song_df)"
      ],
      "execution_count": 187,
      "outputs": [
        {
          "output_type": "execute_result",
          "data": {
            "text/plain": [
              "2000000"
            ]
          },
          "metadata": {
            "tags": []
          },
          "execution_count": 187
        }
      ]
    },
    {
      "cell_type": "code",
      "metadata": {
        "id": "9CGKwZ_CQQZv"
      },
      "source": [
        " song_df = song_df.head(10000)"
      ],
      "execution_count": 188,
      "outputs": []
    },
    {
      "cell_type": "code",
      "metadata": {
        "id": "GCmBzPIQQdF3"
      },
      "source": [
        "song_df['song'] = song_df['title'].map(str) + \" _ \" + song_df['artist_name']"
      ],
      "execution_count": 189,
      "outputs": []
    },
    {
      "cell_type": "code",
      "metadata": {
        "id": "gBimMdDhQgYQ",
        "colab": {
          "base_uri": "https://localhost:8080/",
          "height": 272
        },
        "outputId": "131b746c-f31b-4ee0-9607-08a1f3c71154"
      },
      "source": [
        "song_df.head()"
      ],
      "execution_count": 190,
      "outputs": [
        {
          "output_type": "execute_result",
          "data": {
            "text/html": [
              "<div>\n",
              "<style scoped>\n",
              "    .dataframe tbody tr th:only-of-type {\n",
              "        vertical-align: middle;\n",
              "    }\n",
              "\n",
              "    .dataframe tbody tr th {\n",
              "        vertical-align: top;\n",
              "    }\n",
              "\n",
              "    .dataframe thead th {\n",
              "        text-align: right;\n",
              "    }\n",
              "</style>\n",
              "<table border=\"1\" class=\"dataframe\">\n",
              "  <thead>\n",
              "    <tr style=\"text-align: right;\">\n",
              "      <th></th>\n",
              "      <th>user_id</th>\n",
              "      <th>song_id</th>\n",
              "      <th>listen_count</th>\n",
              "      <th>title</th>\n",
              "      <th>release</th>\n",
              "      <th>artist_name</th>\n",
              "      <th>year</th>\n",
              "      <th>song</th>\n",
              "    </tr>\n",
              "  </thead>\n",
              "  <tbody>\n",
              "    <tr>\n",
              "      <th>0</th>\n",
              "      <td>b80344d063b5ccb3212f76538f3d9e43d87dca9e</td>\n",
              "      <td>SOAKIMP12A8C130995</td>\n",
              "      <td>1</td>\n",
              "      <td>The Cove</td>\n",
              "      <td>Thicker Than Water</td>\n",
              "      <td>Jack Johnson</td>\n",
              "      <td>0</td>\n",
              "      <td>The Cove _ Jack Johnson</td>\n",
              "    </tr>\n",
              "    <tr>\n",
              "      <th>1</th>\n",
              "      <td>b80344d063b5ccb3212f76538f3d9e43d87dca9e</td>\n",
              "      <td>SOBBMDR12A8C13253B</td>\n",
              "      <td>2</td>\n",
              "      <td>Entre Dos Aguas</td>\n",
              "      <td>Flamenco Para Niños</td>\n",
              "      <td>Paco De Lucia</td>\n",
              "      <td>1976</td>\n",
              "      <td>Entre Dos Aguas _ Paco De Lucia</td>\n",
              "    </tr>\n",
              "    <tr>\n",
              "      <th>2</th>\n",
              "      <td>b80344d063b5ccb3212f76538f3d9e43d87dca9e</td>\n",
              "      <td>SOBXHDL12A81C204C0</td>\n",
              "      <td>1</td>\n",
              "      <td>Stronger</td>\n",
              "      <td>Graduation</td>\n",
              "      <td>Kanye West</td>\n",
              "      <td>2007</td>\n",
              "      <td>Stronger _ Kanye West</td>\n",
              "    </tr>\n",
              "    <tr>\n",
              "      <th>3</th>\n",
              "      <td>b80344d063b5ccb3212f76538f3d9e43d87dca9e</td>\n",
              "      <td>SOBYHAJ12A6701BF1D</td>\n",
              "      <td>1</td>\n",
              "      <td>Constellations</td>\n",
              "      <td>In Between Dreams</td>\n",
              "      <td>Jack Johnson</td>\n",
              "      <td>2005</td>\n",
              "      <td>Constellations _ Jack Johnson</td>\n",
              "    </tr>\n",
              "    <tr>\n",
              "      <th>4</th>\n",
              "      <td>b80344d063b5ccb3212f76538f3d9e43d87dca9e</td>\n",
              "      <td>SODACBL12A8C13C273</td>\n",
              "      <td>1</td>\n",
              "      <td>Learn To Fly</td>\n",
              "      <td>There Is Nothing Left To Lose</td>\n",
              "      <td>Foo Fighters</td>\n",
              "      <td>1999</td>\n",
              "      <td>Learn To Fly _ Foo Fighters</td>\n",
              "    </tr>\n",
              "  </tbody>\n",
              "</table>\n",
              "</div>"
            ],
            "text/plain": [
              "                                    user_id  ...                             song\n",
              "0  b80344d063b5ccb3212f76538f3d9e43d87dca9e  ...          The Cove _ Jack Johnson\n",
              "1  b80344d063b5ccb3212f76538f3d9e43d87dca9e  ...  Entre Dos Aguas _ Paco De Lucia\n",
              "2  b80344d063b5ccb3212f76538f3d9e43d87dca9e  ...            Stronger _ Kanye West\n",
              "3  b80344d063b5ccb3212f76538f3d9e43d87dca9e  ...    Constellations _ Jack Johnson\n",
              "4  b80344d063b5ccb3212f76538f3d9e43d87dca9e  ...      Learn To Fly _ Foo Fighters\n",
              "\n",
              "[5 rows x 8 columns]"
            ]
          },
          "metadata": {
            "tags": []
          },
          "execution_count": 190
        }
      ]
    },
    {
      "cell_type": "code",
      "metadata": {
        "id": "pfQPs_04Qp7F",
        "colab": {
          "base_uri": "https://localhost:8080/",
          "height": 419
        },
        "outputId": "6688a810-4af0-4865-a1cd-40ab6afe957a"
      },
      "source": [
        " #Most POPULAR Songs in the dataset\n",
        "song_grouped = song_df.groupby(['song']).agg({'listen_count' : 'count'}).reset_index() \n",
        "grouped_sum = song_grouped['listen_count'].sum()\n",
        "song_grouped['percentage'] = song_grouped['listen_count'].div(grouped_sum)*100 \n",
        "song_grouped.sort_values(['listen_count', 'song'], ascending = [0,1])"
      ],
      "execution_count": 191,
      "outputs": [
        {
          "output_type": "execute_result",
          "data": {
            "text/html": [
              "<div>\n",
              "<style scoped>\n",
              "    .dataframe tbody tr th:only-of-type {\n",
              "        vertical-align: middle;\n",
              "    }\n",
              "\n",
              "    .dataframe tbody tr th {\n",
              "        vertical-align: top;\n",
              "    }\n",
              "\n",
              "    .dataframe thead th {\n",
              "        text-align: right;\n",
              "    }\n",
              "</style>\n",
              "<table border=\"1\" class=\"dataframe\">\n",
              "  <thead>\n",
              "    <tr style=\"text-align: right;\">\n",
              "      <th></th>\n",
              "      <th>song</th>\n",
              "      <th>listen_count</th>\n",
              "      <th>percentage</th>\n",
              "    </tr>\n",
              "  </thead>\n",
              "  <tbody>\n",
              "    <tr>\n",
              "      <th>3660</th>\n",
              "      <td>Sehr kosmisch _ Harmonia</td>\n",
              "      <td>45</td>\n",
              "      <td>0.45</td>\n",
              "    </tr>\n",
              "    <tr>\n",
              "      <th>4678</th>\n",
              "      <td>Undo _ Björk</td>\n",
              "      <td>32</td>\n",
              "      <td>0.32</td>\n",
              "    </tr>\n",
              "    <tr>\n",
              "      <th>5105</th>\n",
              "      <td>You're The One _ Dwight Yoakam</td>\n",
              "      <td>32</td>\n",
              "      <td>0.32</td>\n",
              "    </tr>\n",
              "    <tr>\n",
              "      <th>1071</th>\n",
              "      <td>Dog Days Are Over (Radio Edit) _ Florence + Th...</td>\n",
              "      <td>28</td>\n",
              "      <td>0.28</td>\n",
              "    </tr>\n",
              "    <tr>\n",
              "      <th>3655</th>\n",
              "      <td>Secrets _ OneRepublic</td>\n",
              "      <td>28</td>\n",
              "      <td>0.28</td>\n",
              "    </tr>\n",
              "    <tr>\n",
              "      <th>...</th>\n",
              "      <td>...</td>\n",
              "      <td>...</td>\n",
              "      <td>...</td>\n",
              "    </tr>\n",
              "    <tr>\n",
              "      <th>5139</th>\n",
              "      <td>high fives _ Four Tet</td>\n",
              "      <td>1</td>\n",
              "      <td>0.01</td>\n",
              "    </tr>\n",
              "    <tr>\n",
              "      <th>5140</th>\n",
              "      <td>in white rooms _ Booka Shade</td>\n",
              "      <td>1</td>\n",
              "      <td>0.01</td>\n",
              "    </tr>\n",
              "    <tr>\n",
              "      <th>5143</th>\n",
              "      <td>paranoid android _ Christopher O'Riley</td>\n",
              "      <td>1</td>\n",
              "      <td>0.01</td>\n",
              "    </tr>\n",
              "    <tr>\n",
              "      <th>5149</th>\n",
              "      <td>¿Lo Ves? [Piano Y Voz] _ Alejandro Sanz</td>\n",
              "      <td>1</td>\n",
              "      <td>0.01</td>\n",
              "    </tr>\n",
              "    <tr>\n",
              "      <th>5150</th>\n",
              "      <td>Época _ Gotan Project</td>\n",
              "      <td>1</td>\n",
              "      <td>0.01</td>\n",
              "    </tr>\n",
              "  </tbody>\n",
              "</table>\n",
              "<p>5151 rows × 3 columns</p>\n",
              "</div>"
            ],
            "text/plain": [
              "                                                   song  ...  percentage\n",
              "3660                           Sehr kosmisch _ Harmonia  ...        0.45\n",
              "4678                                       Undo _ Björk  ...        0.32\n",
              "5105                     You're The One _ Dwight Yoakam  ...        0.32\n",
              "1071  Dog Days Are Over (Radio Edit) _ Florence + Th...  ...        0.28\n",
              "3655                              Secrets _ OneRepublic  ...        0.28\n",
              "...                                                 ...  ...         ...\n",
              "5139                              high fives _ Four Tet  ...        0.01\n",
              "5140                       in white rooms _ Booka Shade  ...        0.01\n",
              "5143             paranoid android _ Christopher O'Riley  ...        0.01\n",
              "5149            ¿Lo Ves? [Piano Y Voz] _ Alejandro Sanz  ...        0.01\n",
              "5150                              Época _ Gotan Project  ...        0.01\n",
              "\n",
              "[5151 rows x 3 columns]"
            ]
          },
          "metadata": {
            "tags": []
          },
          "execution_count": 191
        }
      ]
    },
    {
      "cell_type": "code",
      "metadata": {
        "colab": {
          "base_uri": "https://localhost:8080/"
        },
        "id": "clhHD6d4Rakd",
        "outputId": "70c068e1-a400-49de-906b-3b75d164a5b9"
      },
      "source": [
        "users = song_df['user_id'].unique()\n",
        "len(users)"
      ],
      "execution_count": 192,
      "outputs": [
        {
          "output_type": "execute_result",
          "data": {
            "text/plain": [
              "365"
            ]
          },
          "metadata": {
            "tags": []
          },
          "execution_count": 192
        }
      ]
    },
    {
      "cell_type": "code",
      "metadata": {
        "colab": {
          "base_uri": "https://localhost:8080/"
        },
        "id": "bIJDZzC2RepD",
        "outputId": "274294e5-7828-4fe3-aaf4-ed986b5ecf94"
      },
      "source": [
        "songs = song_df['song'].unique()\n",
        "len(songs)"
      ],
      "execution_count": 194,
      "outputs": [
        {
          "output_type": "execute_result",
          "data": {
            "text/plain": [
              "5151"
            ]
          },
          "metadata": {
            "tags": []
          },
          "execution_count": 194
        }
      ]
    },
    {
      "cell_type": "code",
      "metadata": {
        "id": "dH7XUKDIRjRN",
        "colab": {
          "base_uri": "https://localhost:8080/"
        },
        "outputId": "0478ff04-9ad9-40e9-e083-70693b5391de"
      },
      "source": [
        "train_data, test_data = train_test_split(song_df , test_size = 0.20, random_state = 0)\n",
        "print(train_data.head(5))"
      ],
      "execution_count": 197,
      "outputs": [
        {
          "output_type": "stream",
          "text": [
            "                                       user_id  ...                                   song\n",
            "7389  94d5bdc37683950e90c56c9b32721edb5d347600  ...          Half Of My Heart _ John Mayer\n",
            "9275  1012ecfd277b96487ed8357d02fa8326b13696a5  ...  The Beautiful People _ Marilyn Manson\n",
            "2995  15415fa2745b344bce958967c346f2a89f792f63  ...       Sanctify Yourself _ Simple Minds\n",
            "5316  ffadf9297a99945c0513cd87939d91d8b602936b  ...       Heart Cooks Brain _ Modest Mouse\n",
            "356   5a905f000fc1ff3df7ca807d57edb608863db05d  ...                Rorol _ Octopus Project\n",
            "\n",
            "[5 rows x 8 columns]\n"
          ],
          "name": "stdout"
        }
      ]
    },
    {
      "cell_type": "code",
      "metadata": {
        "id": "xx9bY7lfUE2H"
      },
      "source": [
        " \n",
        "class popularity_recommender_py():\n",
        "    def __init__(self):\n",
        "        self.train_data = None\n",
        "        self.user_id = None\n",
        "        self.item_id = None\n",
        "        self.popularity_recommendations = None\n",
        "        \n",
        "    #Create the popularity based recommender system model\n",
        "    def create(self, train_data, user_id, item_id):\n",
        "        self.train_data = train_data\n",
        "        self.user_id = user_id\n",
        "        self.item_id = item_id\n",
        " \n",
        "        #Get a count of user_ids for each unique song as recommendation score\n",
        "        train_data_grouped = train_data.groupby([self.item_id]).agg({self.user_id: 'count'}).reset_index()\n",
        "        train_data_grouped.rename(columns = {'user_id': 'score'},inplace=True)\n",
        "    \n",
        "        #Sort the songs based upon recommendation score\n",
        "        train_data_sort = train_data_grouped.sort_values(['score', self.item_id], ascending = [0,1])\n",
        "    \n",
        "        #Generate a recommendation rank based upon score\n",
        "        train_data_sort['Rank'] = train_data_sort['score'].rank(ascending=0, method='first')\n",
        "        \n",
        "        #Get the top 10 recommendations\n",
        "        self.popularity_recommendations = train_data_sort.head(10)\n",
        " \n",
        "    #Use the popularity based recommender system model to\n",
        "    #make recommendations\n",
        "    def recommend(self, user_id):    \n",
        "        user_recommendations = self.popularity_recommendations\n",
        "        \n",
        "        #Add user_id column for which the recommendations are being generated\n",
        "        user_recommendations['user_id'] = user_id\n",
        "    \n",
        "        #Bring user_id column to the front\n",
        "        cols = user_recommendations.columns.tolist()\n",
        "        cols = cols[-1:] + cols[:-1]\n",
        "        user_recommendations = user_recommendations[cols]\n",
        "        \n",
        "        return user_recommendations\n",
        "    \n",
        " \n"
      ],
      "execution_count": 198,
      "outputs": []
    },
    {
      "cell_type": "code",
      "metadata": {
        "id": "Td28Vn7YuOMR"
      },
      "source": [
        "#Class for Item similarity based Recommender System model\r\n",
        "class item_similarity_recommender_py():\r\n",
        "    def __init__(self):\r\n",
        "        self.train_data = None\r\n",
        "        self.user_id = None\r\n",
        "        self.item_id = None\r\n",
        "        self.cooccurence_matrix = None\r\n",
        "        self.songs_dict = None\r\n",
        "        self.rev_songs_dict = None\r\n",
        "        self.item_similarity_recommendations = None\r\n",
        "        \r\n",
        "    #Get unique items (songs) corresponding to a given user\r\n",
        "    def get_user_items(self, user):\r\n",
        "        \r\n",
        "        user_data = self.train_data[self.train_data[self.user_id] == user]\r\n",
        "        user_items = list(user_data[self.item_id].unique())\r\n",
        "        \r\n",
        "        return user_items\r\n",
        "        \r\n",
        "    #Get unique users for a given item (song) \r\n",
        "    # nep: user le suneko item(geet) haru suneka unique users\r\n",
        "    def get_item_users(self, item):\r\n",
        "        item_data = self.train_data[self.train_data[self.item_id] == item]\r\n",
        "        item_users = set(item_data[self.user_id].unique())\r\n",
        "            \r\n",
        "        return item_users # user le suneko geet ko unique listeners haru ko set\r\n",
        "        \r\n",
        "    #Get unique items (songs) in the training data\r\n",
        "    #nep: sabai items (geet) haru\r\n",
        "    def get_all_items_train_data(self):\r\n",
        "        all_items = list(self.train_data[self.item_id].unique())\r\n",
        "            \r\n",
        "        return all_items\r\n",
        "\r\n",
        "        #aba hami sange k k cha: user le suneko geet ko aru users ani all songs\r\n",
        "        \r\n",
        "    #Construct cooccurence matrix\r\n",
        "    def construct_cooccurence_matrix(self, user_songs, all_songs):\r\n",
        "            \r\n",
        "        ####################################\r\n",
        "        #Get users for all songs in user_songs.\r\n",
        "        ####################################\r\n",
        "        user_songs_users = []        \r\n",
        "        for i in range(0, len(user_songs)):\r\n",
        "            user_songs_users.append(self.get_item_users(user_songs[i]))\r\n",
        "            \r\n",
        "        ###############################################\r\n",
        "        #Initialize the item cooccurence matrix of size \r\n",
        "        #len(user_songs) X len(songs)\r\n",
        "        ###############################################\r\n",
        "        cooccurence_matrix = np.matrix(np.zeros(shape=(len(user_songs), len(all_songs))), float)\r\n",
        "           \r\n",
        "        #############################################################\r\n",
        "        #Calculate similarity between user songs and all unique songs\r\n",
        "        #in the training data\r\n",
        "        #############################################################\r\n",
        "        for i in range(0,len(all_songs)):\r\n",
        "            #Calculate unique listeners (users) of song (item) i\r\n",
        "            songs_i_data = self.train_data[self.train_data[self.item_id] == all_songs[i]]\r\n",
        "            users_i = set(songs_i_data[self.user_id].unique())\r\n",
        "            \r\n",
        "            for j in range(0,len(user_songs)):       \r\n",
        "                    \r\n",
        "                #Get unique listeners (users) of song (item) j\r\n",
        "                users_j = user_songs_users[j]\r\n",
        "                    \r\n",
        "                #Calculate intersection of listeners of songs i and j\r\n",
        "                users_intersection = users_i.intersection(users_j)\r\n",
        "                \r\n",
        "                #Calculate cooccurence_matrix[i,j] as Jaccard Index\r\n",
        "                if len(users_intersection) != 0:\r\n",
        "                    #Calculate union of listeners of songs i and j\r\n",
        "                    users_union = users_i.union(users_j)\r\n",
        "                    \r\n",
        "                    cooccurence_matrix[j,i] = float(len(users_intersection))/float(len(users_union))\r\n",
        "                else:\r\n",
        "                    cooccurence_matrix[j,i] = 0\r\n",
        "                    \r\n",
        "        \r\n",
        "        return cooccurence_matrix\r\n",
        " \r\n",
        "    \r\n",
        "    #Use the cooccurence matrix to make top recommendations\r\n",
        "    def generate_top_recommendations(self, user, cooccurence_matrix, all_songs, user_songs):\r\n",
        "        print(\"Non zero values in cooccurence_matrix :%d\" % np.count_nonzero(cooccurence_matrix))\r\n",
        "        \r\n",
        "        #Calculate a weighted average of the scores in cooccurence matrix for all user songs.\r\n",
        "        user_sim_scores = cooccurence_matrix.sum(axis=0)/float(cooccurence_matrix.shape[0])\r\n",
        "        user_sim_scores = np.array(user_sim_scores)[0].tolist()\r\n",
        " \r\n",
        "        #Sort the indices of user_sim_scores based upon their value\r\n",
        "        #Also maintain the corresponding score\r\n",
        "        sort_index = sorted(((e,i) for i,e in enumerate(list(user_sim_scores))), reverse=True)\r\n",
        "    \r\n",
        "        #Create a dataframe from the following\r\n",
        "        columns = ['user_id', 'song', 'score', 'rank']\r\n",
        "        #index = np.arange(1) # array of numbers for the number of samples\r\n",
        "        df = pd.DataFrame(columns=columns)\r\n",
        "         \r\n",
        "        #Fill the dataframe with top 10 item based recommendations\r\n",
        "        rank = 1 \r\n",
        "        for i in range(0,len(sort_index)):\r\n",
        "            if ~np.isnan(sort_index[i][0]) and all_songs[sort_index[i][1]] not in user_songs and rank <= 10:\r\n",
        "                df.loc[len(df)]=[user,all_songs[sort_index[i][1]],sort_index[i][0],rank]\r\n",
        "                rank = rank+1\r\n",
        "        \r\n",
        "        #Handle the case where there are no recommendations\r\n",
        "        if df.shape[0] == 0:\r\n",
        "            print(\"The current user has no songs for training the item similarity based recommendation model.\")\r\n",
        "            return -1\r\n",
        "        else:\r\n",
        "            return df\r\n",
        " \r\n",
        "    #Create the item similarity based recommender system model\r\n",
        "    def create(self, train_data, user_id, item_id):\r\n",
        "        self.train_data = train_data\r\n",
        "        self.user_id = user_id\r\n",
        "        self.item_id = item_id\r\n",
        " \r\n",
        "    #Use the item similarity based recommender system model to\r\n",
        "    #make recommendations\r\n",
        "    def recommend(self, user):\r\n",
        "        \r\n",
        "        ########################################\r\n",
        "        #A. Get all unique songs for this user\r\n",
        "        ########################################\r\n",
        "        user_songs = self.get_user_items(user)    \r\n",
        "            \r\n",
        "        print(\"No. of unique songs for the user: %d\" % len(user_songs))\r\n",
        "        \r\n",
        "        ######################################################\r\n",
        "        #B. Get all unique items (songs) in the training data\r\n",
        "        ######################################################\r\n",
        "        all_songs = self.get_all_items_train_data()\r\n",
        "        \r\n",
        "        print(\"no. of unique songs in the training set: %d\" % len(all_songs))\r\n",
        "         \r\n",
        "        ###############################################\r\n",
        "        #C. Construct item cooccurence matrix of size \r\n",
        "        #len(user_songs) X len(songs)\r\n",
        "        ###############################################\r\n",
        "        cooccurence_matrix = self.construct_cooccurence_matrix(user_songs, all_songs)\r\n",
        "        \r\n",
        "        #######################################################\r\n",
        "        #D. Use the cooccurence matrix to make recommendations\r\n",
        "        #######################################################\r\n",
        "        df_recommendations = self.generate_top_recommendations(user, cooccurence_matrix, all_songs, user_songs)\r\n",
        "                \r\n",
        "        return df_recommendations\r\n",
        "    \r\n",
        "    #Get similar items to given items\r\n",
        "    def get_similar_items(self, item_list):\r\n",
        "        \r\n",
        "        user_songs = item_list\r\n",
        "        \r\n",
        "        ######################################################\r\n",
        "        #B. Get all unique items (songs) in the training data\r\n",
        "        ######################################################\r\n",
        "        all_songs = self.get_all_items_train_data()\r\n",
        "        \r\n",
        "        print(\"no. of unique songs in the training set: %d\" % len(all_songs))\r\n",
        "         \r\n",
        "        ###############################################\r\n",
        "        #C. Construct item cooccurence matrix of size \r\n",
        "        #len(user_songs) X len(songs)\r\n",
        "        ###############################################\r\n",
        "        cooccurence_matrix = self.construct_cooccurence_matrix(user_songs, all_songs)\r\n",
        "        \r\n",
        "        #######################################################\r\n",
        "        #D. Use the cooccurence matrix to make recommendations\r\n",
        "        #######################################################\r\n",
        "        user = \"\"\r\n",
        "        df_recommendations = self.generate_top_recommendations(user, cooccurence_matrix, all_songs, user_songs)\r\n",
        "         \r\n",
        "        return df_recommendations"
      ],
      "execution_count": 199,
      "outputs": []
    },
    {
      "cell_type": "code",
      "metadata": {
        "id": "gPBISdwRUInT"
      },
      "source": [
        " pm = popularity_recommender_py()"
      ],
      "execution_count": 200,
      "outputs": []
    },
    {
      "cell_type": "code",
      "metadata": {
        "id": "tBao6gk7URD4"
      },
      "source": [
        " pm.create(train_data, 'user_id', 'song')"
      ],
      "execution_count": 201,
      "outputs": []
    },
    {
      "cell_type": "code",
      "metadata": {
        "id": "9M_x1aHtUWAl",
        "colab": {
          "base_uri": "https://localhost:8080/",
          "height": 359
        },
        "outputId": "600a738d-e409-4074-96c6-fac9f2ce4bf9"
      },
      "source": [
        " user_id = users[100]\n",
        "pm.recommend(user_id)"
      ],
      "execution_count": 202,
      "outputs": [
        {
          "output_type": "execute_result",
          "data": {
            "text/html": [
              "<div>\n",
              "<style scoped>\n",
              "    .dataframe tbody tr th:only-of-type {\n",
              "        vertical-align: middle;\n",
              "    }\n",
              "\n",
              "    .dataframe tbody tr th {\n",
              "        vertical-align: top;\n",
              "    }\n",
              "\n",
              "    .dataframe thead th {\n",
              "        text-align: right;\n",
              "    }\n",
              "</style>\n",
              "<table border=\"1\" class=\"dataframe\">\n",
              "  <thead>\n",
              "    <tr style=\"text-align: right;\">\n",
              "      <th></th>\n",
              "      <th>user_id</th>\n",
              "      <th>song</th>\n",
              "      <th>score</th>\n",
              "      <th>Rank</th>\n",
              "    </tr>\n",
              "  </thead>\n",
              "  <tbody>\n",
              "    <tr>\n",
              "      <th>3194</th>\n",
              "      <td>b1269307f2ae8c17062c6aea2502b099aad517b6</td>\n",
              "      <td>Sehr kosmisch _ Harmonia</td>\n",
              "      <td>37</td>\n",
              "      <td>1.0</td>\n",
              "    </tr>\n",
              "    <tr>\n",
              "      <th>4083</th>\n",
              "      <td>b1269307f2ae8c17062c6aea2502b099aad517b6</td>\n",
              "      <td>Undo _ Björk</td>\n",
              "      <td>27</td>\n",
              "      <td>2.0</td>\n",
              "    </tr>\n",
              "    <tr>\n",
              "      <th>931</th>\n",
              "      <td>b1269307f2ae8c17062c6aea2502b099aad517b6</td>\n",
              "      <td>Dog Days Are Over (Radio Edit) _ Florence + Th...</td>\n",
              "      <td>24</td>\n",
              "      <td>3.0</td>\n",
              "    </tr>\n",
              "    <tr>\n",
              "      <th>4443</th>\n",
              "      <td>b1269307f2ae8c17062c6aea2502b099aad517b6</td>\n",
              "      <td>You're The One _ Dwight Yoakam</td>\n",
              "      <td>24</td>\n",
              "      <td>4.0</td>\n",
              "    </tr>\n",
              "    <tr>\n",
              "      <th>3034</th>\n",
              "      <td>b1269307f2ae8c17062c6aea2502b099aad517b6</td>\n",
              "      <td>Revelry _ Kings Of Leon</td>\n",
              "      <td>21</td>\n",
              "      <td>5.0</td>\n",
              "    </tr>\n",
              "    <tr>\n",
              "      <th>3189</th>\n",
              "      <td>b1269307f2ae8c17062c6aea2502b099aad517b6</td>\n",
              "      <td>Secrets _ OneRepublic</td>\n",
              "      <td>21</td>\n",
              "      <td>6.0</td>\n",
              "    </tr>\n",
              "    <tr>\n",
              "      <th>4112</th>\n",
              "      <td>b1269307f2ae8c17062c6aea2502b099aad517b6</td>\n",
              "      <td>Use Somebody _ Kings Of Leon</td>\n",
              "      <td>21</td>\n",
              "      <td>7.0</td>\n",
              "    </tr>\n",
              "    <tr>\n",
              "      <th>1207</th>\n",
              "      <td>b1269307f2ae8c17062c6aea2502b099aad517b6</td>\n",
              "      <td>Fireflies _ Charttraxx Karaoke</td>\n",
              "      <td>20</td>\n",
              "      <td>8.0</td>\n",
              "    </tr>\n",
              "    <tr>\n",
              "      <th>1577</th>\n",
              "      <td>b1269307f2ae8c17062c6aea2502b099aad517b6</td>\n",
              "      <td>Hey_ Soul Sister _ Train</td>\n",
              "      <td>19</td>\n",
              "      <td>9.0</td>\n",
              "    </tr>\n",
              "    <tr>\n",
              "      <th>1626</th>\n",
              "      <td>b1269307f2ae8c17062c6aea2502b099aad517b6</td>\n",
              "      <td>Horn Concerto No. 4 in E flat K495: II. Romanc...</td>\n",
              "      <td>19</td>\n",
              "      <td>10.0</td>\n",
              "    </tr>\n",
              "  </tbody>\n",
              "</table>\n",
              "</div>"
            ],
            "text/plain": [
              "                                       user_id  ...  Rank\n",
              "3194  b1269307f2ae8c17062c6aea2502b099aad517b6  ...   1.0\n",
              "4083  b1269307f2ae8c17062c6aea2502b099aad517b6  ...   2.0\n",
              "931   b1269307f2ae8c17062c6aea2502b099aad517b6  ...   3.0\n",
              "4443  b1269307f2ae8c17062c6aea2502b099aad517b6  ...   4.0\n",
              "3034  b1269307f2ae8c17062c6aea2502b099aad517b6  ...   5.0\n",
              "3189  b1269307f2ae8c17062c6aea2502b099aad517b6  ...   6.0\n",
              "4112  b1269307f2ae8c17062c6aea2502b099aad517b6  ...   7.0\n",
              "1207  b1269307f2ae8c17062c6aea2502b099aad517b6  ...   8.0\n",
              "1577  b1269307f2ae8c17062c6aea2502b099aad517b6  ...   9.0\n",
              "1626  b1269307f2ae8c17062c6aea2502b099aad517b6  ...  10.0\n",
              "\n",
              "[10 rows x 4 columns]"
            ]
          },
          "metadata": {
            "tags": []
          },
          "execution_count": 202
        }
      ]
    },
    {
      "cell_type": "code",
      "metadata": {
        "id": "xCWIHEUEUfIo"
      },
      "source": [
        "is_model = item_similarity_recommender_py()\n",
        "is_model.create(train_data, 'user_id', 'song')"
      ],
      "execution_count": 203,
      "outputs": []
    },
    {
      "cell_type": "code",
      "metadata": {
        "colab": {
          "base_uri": "https://localhost:8080/"
        },
        "id": "5yJ1tctqUytQ",
        "outputId": "2a1a6760-31a8-4d24-9f0e-9f43132a9379"
      },
      "source": [
        "user_id = users[5]\n",
        "print(\"%s\"%user_id)\n"
      ],
      "execution_count": 204,
      "outputs": [
        {
          "output_type": "stream",
          "text": [
            "4bd88bfb25263a75bbdd467e74018f4ae570e5df\n"
          ],
          "name": "stdout"
        }
      ]
    },
    {
      "cell_type": "code",
      "metadata": {
        "colab": {
          "base_uri": "https://localhost:8080/"
        },
        "id": "nt8_uZjxpk0E",
        "outputId": "7ba71be7-a4f7-4fed-930d-303314a6ff52"
      },
      "source": [
        "user_items = is_model.get_user_items(users[5])\r\n",
        "print(\"*******************************************************************\")\r\n",
        "print(\"-----------------------Trainning data songs for the user userid: %s:\" %user_id)\r\n",
        "print(\"******\")"
      ],
      "execution_count": 205,
      "outputs": [
        {
          "output_type": "stream",
          "text": [
            "*******************************************************************\n",
            "-----------------------Trainning data songs for the user userid: 4bd88bfb25263a75bbdd467e74018f4ae570e5df:\n",
            "******\n"
          ],
          "name": "stdout"
        }
      ]
    },
    {
      "cell_type": "code",
      "metadata": {
        "colab": {
          "base_uri": "https://localhost:8080/"
        },
        "id": "b5MaqyZIVN_u",
        "outputId": "aef89b85-e302-4e88-8ccb-d3dff5c6064e"
      },
      "source": [
        " for user_item in user_items: \n",
        "   print(user_item)\n",
        "   print(\"*******************************************************************\")\n",
        "   print(\"Recommendation INPROCESS :\")\n",
        "   print(\"*************************\")"
      ],
      "execution_count": 206,
      "outputs": [
        {
          "output_type": "stream",
          "text": [
            "Just Lose It _ Eminem\n",
            "*******************************************************************\n",
            "Recommendation INPROCESS :\n",
            "*************************\n",
            "Without Me _ Eminem\n",
            "*******************************************************************\n",
            "Recommendation INPROCESS :\n",
            "*************************\n",
            "16 Candles _ The Crests\n",
            "*******************************************************************\n",
            "Recommendation INPROCESS :\n",
            "*************************\n",
            "Speechless _ Lady GaGa\n",
            "*******************************************************************\n",
            "Recommendation INPROCESS :\n",
            "*************************\n",
            "Push It _ Salt-N-Pepa\n",
            "*******************************************************************\n",
            "Recommendation INPROCESS :\n",
            "*************************\n",
            "Ghosts 'n' Stuff (Original Instrumental Mix) _ Deadmau5\n",
            "*******************************************************************\n",
            "Recommendation INPROCESS :\n",
            "*************************\n",
            "Say My Name _ Destiny's Child\n",
            "*******************************************************************\n",
            "Recommendation INPROCESS :\n",
            "*************************\n",
            "My Dad's Gone Crazy _ Eminem / Hailie Jade\n",
            "*******************************************************************\n",
            "Recommendation INPROCESS :\n",
            "*************************\n",
            "The Real Slim Shady _ Eminem\n",
            "*******************************************************************\n",
            "Recommendation INPROCESS :\n",
            "*************************\n",
            "Somebody To Love _ Justin Bieber\n",
            "*******************************************************************\n",
            "Recommendation INPROCESS :\n",
            "*************************\n",
            "Forgive Me _ Leona Lewis\n",
            "*******************************************************************\n",
            "Recommendation INPROCESS :\n",
            "*************************\n",
            "Missing You _ John Waite\n",
            "*******************************************************************\n",
            "Recommendation INPROCESS :\n",
            "*************************\n",
            "Ya Nada Queda _ Kudai\n",
            "*******************************************************************\n",
            "Recommendation INPROCESS :\n",
            "*************************\n"
          ],
          "name": "stdout"
        }
      ]
    },
    {
      "cell_type": "code",
      "metadata": {
        "colab": {
          "base_uri": "https://localhost:8080/"
        },
        "id": "quIP2Joba9-F",
        "outputId": "7a32a94e-a12d-4450-fa55-3ca5d052cea7"
      },
      "source": [
        "#Recommending songs for the user using personalized model\r\n",
        "g = is_model.recommend(user_id)\r\n",
        "###########################################################################################################################\r\n",
        "#Personalized model to make Recommendations for the Following user Id \r\n",
        "user_id = users[7]\r\n",
        "user_items = is_model.get_user_items(user_id)"
      ],
      "execution_count": 211,
      "outputs": [
        {
          "output_type": "stream",
          "text": [
            "No. of unique songs for the user: 8\n",
            "no. of unique songs in the training set: 4483\n",
            "Non zero values in cooccurence_matrix :3429\n"
          ],
          "name": "stdout"
        }
      ]
    },
    {
      "cell_type": "code",
      "metadata": {
        "colab": {
          "base_uri": "https://localhost:8080/"
        },
        "id": "8jqoMkLNa5Ut",
        "outputId": "12e96ee6-c39a-4a7f-cdf5-e59b8cb8a750"
      },
      "source": [
        "print(\"------------------------------------------------------------------------------------\")\r\n",
        "print(\"Training data songs for the user userid: %s:\" % user_id)\r\n",
        "print(\"------------------------------------------------------------------------------------\")"
      ],
      "execution_count": 212,
      "outputs": [
        {
          "output_type": "stream",
          "text": [
            "------------------------------------------------------------------------------------\n",
            "Training data songs for the user userid: 9d6f0ead607ac2a6c2460e4d14fb439a146b7dec:\n",
            "------------------------------------------------------------------------------------\n"
          ],
          "name": "stdout"
        }
      ]
    },
    {
      "cell_type": "code",
      "metadata": {
        "colab": {
          "base_uri": "https://localhost:8080/"
        },
        "id": "xpsExga6a4OM",
        "outputId": "f0920511-2d1d-4840-8908-28a3f2482fbd"
      },
      "source": [
        "for user_item in user_items:\r\n",
        "    print(user_item)\r\n",
        "\r\n",
        "print(\"----------------------------------------------------------------------\")\r\n",
        "print(\"Recommendation process going on:\")\r\n",
        "print(\"----------------------------------------------------------------------\")"
      ],
      "execution_count": 213,
      "outputs": [
        {
          "output_type": "stream",
          "text": [
            "Swallowed In The Sea _ Coldplay\n",
            "Life In Technicolor ii _ Coldplay\n",
            "Life In Technicolor _ Coldplay\n",
            "The Scientist _ Coldplay\n",
            "Trouble _ Coldplay\n",
            "Strawberry Swing _ Coldplay\n",
            "Lost! _ Coldplay\n",
            "Clocks _ Coldplay\n",
            "----------------------------------------------------------------------\n",
            "Recommendation process going on:\n",
            "----------------------------------------------------------------------\n"
          ],
          "name": "stdout"
        }
      ]
    },
    {
      "cell_type": "code",
      "metadata": {
        "colab": {
          "base_uri": "https://localhost:8080/"
        },
        "id": "OIg4VLQRWCDp",
        "outputId": "dcaaee63-f475-45d6-bc9c-e646943756fa"
      },
      "source": [
        "x = is_model.recommend(user_id)"
      ],
      "execution_count": 214,
      "outputs": [
        {
          "output_type": "stream",
          "text": [
            "No. of unique songs for the user: 8\n",
            "no. of unique songs in the training set: 4483\n",
            "Non zero values in cooccurence_matrix :3429\n"
          ],
          "name": "stdout"
        }
      ]
    },
    {
      "cell_type": "code",
      "metadata": {
        "id": "CUcHTR9lWRvH",
        "colab": {
          "base_uri": "https://localhost:8080/",
          "height": 393
        },
        "outputId": "4fc2595b-3bc7-4cba-be86-8739d2da7f57"
      },
      "source": [
        "song = 'Yellow _ Coldplay'\n",
        "is_model.get_similar_items([song])"
      ],
      "execution_count": 215,
      "outputs": [
        {
          "output_type": "stream",
          "text": [
            "no. of unique songs in the training set: 4483\n",
            "Non zero values in cooccurence_matrix :969\n"
          ],
          "name": "stdout"
        },
        {
          "output_type": "execute_result",
          "data": {
            "text/html": [
              "<div>\n",
              "<style scoped>\n",
              "    .dataframe tbody tr th:only-of-type {\n",
              "        vertical-align: middle;\n",
              "    }\n",
              "\n",
              "    .dataframe tbody tr th {\n",
              "        vertical-align: top;\n",
              "    }\n",
              "\n",
              "    .dataframe thead th {\n",
              "        text-align: right;\n",
              "    }\n",
              "</style>\n",
              "<table border=\"1\" class=\"dataframe\">\n",
              "  <thead>\n",
              "    <tr style=\"text-align: right;\">\n",
              "      <th></th>\n",
              "      <th>user_id</th>\n",
              "      <th>song</th>\n",
              "      <th>score</th>\n",
              "      <th>rank</th>\n",
              "    </tr>\n",
              "  </thead>\n",
              "  <tbody>\n",
              "    <tr>\n",
              "      <th>0</th>\n",
              "      <td></td>\n",
              "      <td>Fix You _ Coldplay</td>\n",
              "      <td>0.375000</td>\n",
              "      <td>1</td>\n",
              "    </tr>\n",
              "    <tr>\n",
              "      <th>1</th>\n",
              "      <td></td>\n",
              "      <td>Creep (Explicit) _ Radiohead</td>\n",
              "      <td>0.291667</td>\n",
              "      <td>2</td>\n",
              "    </tr>\n",
              "    <tr>\n",
              "      <th>2</th>\n",
              "      <td></td>\n",
              "      <td>Clocks _ Coldplay</td>\n",
              "      <td>0.280000</td>\n",
              "      <td>3</td>\n",
              "    </tr>\n",
              "    <tr>\n",
              "      <th>3</th>\n",
              "      <td></td>\n",
              "      <td>Seven Nation Army _ The White Stripes</td>\n",
              "      <td>0.250000</td>\n",
              "      <td>4</td>\n",
              "    </tr>\n",
              "    <tr>\n",
              "      <th>4</th>\n",
              "      <td></td>\n",
              "      <td>Paper Planes _ M.I.A.</td>\n",
              "      <td>0.208333</td>\n",
              "      <td>5</td>\n",
              "    </tr>\n",
              "    <tr>\n",
              "      <th>5</th>\n",
              "      <td></td>\n",
              "      <td>Halo _ Beyoncé</td>\n",
              "      <td>0.200000</td>\n",
              "      <td>6</td>\n",
              "    </tr>\n",
              "    <tr>\n",
              "      <th>6</th>\n",
              "      <td></td>\n",
              "      <td>The Funeral (Album Version) _ Band Of Horses</td>\n",
              "      <td>0.181818</td>\n",
              "      <td>7</td>\n",
              "    </tr>\n",
              "    <tr>\n",
              "      <th>7</th>\n",
              "      <td></td>\n",
              "      <td>In My Place _ Coldplay</td>\n",
              "      <td>0.181818</td>\n",
              "      <td>8</td>\n",
              "    </tr>\n",
              "    <tr>\n",
              "      <th>8</th>\n",
              "      <td></td>\n",
              "      <td>Kryptonite _ 3 Doors Down</td>\n",
              "      <td>0.166667</td>\n",
              "      <td>9</td>\n",
              "    </tr>\n",
              "    <tr>\n",
              "      <th>9</th>\n",
              "      <td></td>\n",
              "      <td>When You Were Young _ The Killers</td>\n",
              "      <td>0.166667</td>\n",
              "      <td>10</td>\n",
              "    </tr>\n",
              "  </tbody>\n",
              "</table>\n",
              "</div>"
            ],
            "text/plain": [
              "  user_id                                          song     score rank\n",
              "0                                    Fix You _ Coldplay  0.375000    1\n",
              "1                          Creep (Explicit) _ Radiohead  0.291667    2\n",
              "2                                     Clocks _ Coldplay  0.280000    3\n",
              "3                 Seven Nation Army _ The White Stripes  0.250000    4\n",
              "4                                 Paper Planes _ M.I.A.  0.208333    5\n",
              "5                                        Halo _ Beyoncé  0.200000    6\n",
              "6          The Funeral (Album Version) _ Band Of Horses  0.181818    7\n",
              "7                                In My Place _ Coldplay  0.181818    8\n",
              "8                             Kryptonite _ 3 Doors Down  0.166667    9\n",
              "9                     When You Were Young _ The Killers  0.166667   10"
            ]
          },
          "metadata": {
            "tags": []
          },
          "execution_count": 215
        }
      ]
    },
    {
      "cell_type": "code",
      "metadata": {
        "id": "eXRs2q2CWSi4"
      },
      "source": [
        " import pylab as pl"
      ],
      "execution_count": 216,
      "outputs": []
    },
    {
      "cell_type": "code",
      "metadata": {
        "id": "rHhtc1E0Wcfn"
      },
      "source": [
        " #CODE to Plot precision recall curve import pylab as pl\n",
        "def plot_precision_recall(m1_precision_list, m1_recall_list, m1_label, m2_precision_list, m2_recall_list, m2_label): \n",
        "   pl.clf()  \n",
        "   pl.plot(m1_recall_list, m1_precision_list, label=m1_label)  \n",
        "   pl.plot(m2_recall_list, m2_precision_list, label=m2_label)  \n",
        "   pl.xlabel('Recall') \n",
        "   pl.ylabel('Precision')\n",
        "   pl.ylim([0.0, 0.20])    \n",
        "   pl.xlim([0.0, 0.20])  \n",
        "   pl.title('Precision-Recall curve') \n",
        "   pl.legend(loc = 9, bbox_to_anchor=(0.5, -0.2)) \n",
        "   pl.show()"
      ],
      "execution_count": 217,
      "outputs": []
    },
    {
      "cell_type": "code",
      "metadata": {
        "id": "fU4d2x2SXU3y"
      },
      "source": [
        "pl.show()"
      ],
      "execution_count": 218,
      "outputs": []
    }
  ]
}