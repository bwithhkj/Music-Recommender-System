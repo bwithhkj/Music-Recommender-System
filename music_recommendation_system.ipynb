{
  "nbformat": 4,
  "nbformat_minor": 0,
  "metadata": {
    "colab": {
      "name": "music recommendation system.ipynb",
      "provenance": [],
      "authorship_tag": "ABX9TyMCeFgS/sAW+Fvz+46iDOQL",
      "include_colab_link": true
    },
    "kernelspec": {
      "name": "python3",
      "display_name": "Python 3"
    }
  },
  "cells": [
    {
      "cell_type": "markdown",
      "metadata": {
        "id": "view-in-github",
        "colab_type": "text"
      },
      "source": [
        "<a href=\"https://colab.research.google.com/github/genuienly/Music-Recommender-System/blob/main/music_recommendation_system.ipynb\" target=\"_parent\"><img src=\"https://colab.research.google.com/assets/colab-badge.svg\" alt=\"Open In Colab\"/></a>"
      ]
    },
    {
      "cell_type": "markdown",
      "metadata": {
        "id": "L-v4MGdoSZrS"
      },
      "source": [
        "MUSIC RECOMMENDATION SYSTEM"
      ]
    },
    {
      "cell_type": "code",
      "metadata": {
        "id": "llztSPYNMKI9"
      },
      "source": [
        " import pandas as pd"
      ],
      "execution_count": null,
      "outputs": []
    },
    {
      "cell_type": "code",
      "metadata": {
        "id": "XfOAKX-lMewC"
      },
      "source": [
        "import numpy as np"
      ],
      "execution_count": null,
      "outputs": []
    },
    {
      "cell_type": "code",
      "metadata": {
        "id": "-rIWt4w-Mns_"
      },
      "source": [
        " \n",
        "from sklearn.model_selection import train_test_split\n",
        "import time\n",
        "from sklearn.externals import joblib"
      ],
      "execution_count": null,
      "outputs": []
    },
    {
      "cell_type": "code",
      "metadata": {
        "id": "Gxsi4CuROXux"
      },
      "source": [
        " class popularity_recommender_py():    def __init__(self):        self.train_data = None        self.user_id = None        self.item_id = None        self.popularity_recommendations = None            #Create the popularity based recommender system model    def create(self, train_data, user_id, item_id):        self.train_data = train_data        self.user_id = user_id        self.item_id = item_id\n",
        "        #Get a count of user_ids for each unique song as recommendation score        train_data_grouped = train_data.groupby([self.item_id]).agg({self.user_id: 'count'}).reset_index()        train_data_grouped.rename(columns = {'user_id': 'score'},inplace=True)            #Sort the songs based upon recommendation score        train_data_sort = train_data_grouped.sort_values(['score', self.item_id], ascending = [0,1])            #Generate a recommendation rank based upon score        train_data_sort['Rank'] = train_data_sort['score'].rank(ascending=0, method='first')                #Get the top 10 recommendations        self.popularity_recommendations = train_data_sort.head(10)\n",
        "    #Use the popularity based recommender system model to    #make recommendations    def recommend(self, user_id):            user_recommendations = self.popularity_recommendations                #Add user_id column for which the recommendations are being generated        user_recommendations['user_id'] = user_id            #Bring user_id column to the front        cols = user_recommendations.columns.tolist()        cols = cols[-1:] + cols[:-1]        user_recommendations = user_recommendations[cols]                return user_recommendations    \n",
        "#Class for Item similarity based Recommender System modelclass item_similarity_recommender_py():    def __init__(self):        self.train_data = None        self.user_id = None        self.item_id = None        self.cooccurence_matrix = None        self.songs_dict = None        self.rev_songs_dict = None        self.item_similarity_recommendations = None            #Get unique items (songs) corresponding to a given user    def get_user_items(self, user):        user_data = self.train_data[self.train_data[self.user_id] == user]        user_items = list(user_data[self.item_id].unique())                return user_items            #Get unique users for a given item (song)    def get_item_users(self, item):        item_data = self.train_data[self.train_data[self.item_id] == item]        item_users = set(item_data[self.user_id].unique())                    return item_users            #Get unique items (songs) in the training data    def get_all_items_train_data(self):        all_items = list(self.train_data[self.item_id].unique())                    return all_items            #Construct cooccurence matrix    def construct_cooccurence_matrix(self, user_songs, all_songs):                    ####################################        #Get users for all songs in user_songs.        ####################################        user_songs_users = []                for i in range(0, len(user_songs)):            user_songs_users.append(self.get_item_users(user_songs[i]))                    ###############################################        #Initialize the item cooccurence matrix of size         #len(user_songs) X len(songs)        ###############################################        cooccurence_matrix = np.matrix(np.zeros(shape=(len(user_songs), len(all_songs))), float)                   #############################################################        #Calculate similarity between user songs and all unique songs        #in the training data        #############################################################        for i in range(0,len(all_songs)):            #Calculate unique listeners (users) of song (item) i            songs_i_data = self.train_data[self.train_data[self.item_id] == all_songs[i]]            users_i = set(songs_i_data[self.user_id].unique())                        for j in range(0,len(user_songs)):                                           #Get unique listeners (users) of song (item) j                users_j = user_songs_users[j]                                    #Calculate intersection of listeners of songs i and j                users_intersection = users_i.intersection(users_j)                                #Calculate cooccurence_matrix[i,j] as Jaccard Index                if len(users_intersection) != 0:                    #Calculate union of listeners of songs i and j                    users_union = users_i.union(users_j)                                        cooccurence_matrix[j,i] = float(len(users_intersection))/float(len(users_union))                else:                    cooccurence_matrix[j,i] = 0                                    return cooccurence_matrix\n",
        "        #Use the cooccurence matrix to make top recommendations    def generate_top_recommendations(self, user, cooccurence_matrix, all_songs, user_songs):        print(\"Non zero values in cooccurence_matrix :%d\" % np.count_nonzero(cooccurence_matrix))                #Calculate a weighted average of the scores in cooccurence matrix for all user songs.        user_sim_scores = cooccurence_matrix.sum(axis=0)/float(cooccurence_matrix.shape[0])        user_sim_scores = np.array(user_sim_scores)[0].tolist()         #Sort the indices of user_sim_scores based upon their value        #Also maintain the corresponding score        sort_index = sorted(((e,i) for i,e in enumerate(list(user_sim_scores))), reverse=True)            #Create a dataframe from the following        columns = ['user_id', 'song', 'score', 'rank']        #index = np.arange(1) # array of numbers for the number of samples        df = pandas.DataFrame(columns=columns)                 #Fill the dataframe with top 10 item based recommendations        rank = 1         for i in range(0,len(sort_index)):            if ~np.isnan(sort_index[i][0]) and all_songs[sort_index[i][1]] not in user_songs and rank <= 10:                df.loc[len(df)]=[user,all_songs[sort_index[i][1]],sort_index[i][0],rank]                rank = rank+1                #Handle the case where there are no recommendations        if df.shape[0] == 0:            print(\"The current user has no songs for training the item similarity based recommendation model.\")            return -1        else:            return df     #Create the item similarity based recommender system model    def create(self, train_data, user_id, item_id):        self.train_data = train_data        self.user_id = user_id        self.item_id = item_id\n",
        "    #Use the item similarity based recommender system model to    #make recommendations    def recommend(self, user):                ########################################        #A. Get all unique songs for this user        ########################################        user_songs = self.get_user_items(user)                        print(\"No. of unique songs for the user: %d\" % len(user_songs))                ######################################################        #B. Get all unique items (songs) in the training data        ######################################################        all_songs = self.get_all_items_train_data()                print(\"no. of unique songs in the training set: %d\" % len(all_songs))                 ###############################################        #C. Construct item cooccurence matrix of size         #len(user_songs) X len(songs)        ###############################################        cooccurence_matrix = self.construct_cooccurence_matrix(user_songs, all_songs)                #######################################################        #D. Use the cooccurence matrix to make recommendations        #######################################################        df_recommendations = self.generate_top_recommendations(user, cooccurence_matrix, all_songs, user_songs)                        return df_recommendations        #Get similar items to given items    def get_similar_items(self, item_list):                user_songs = item_list                ######################################################        #B. Get all unique items (songs) in the training data        ######################################################        all_songs = self.get_all_items_train_data()                print(\"no. of unique songs in the training set: %d\" % len(all_songs))                 ###############################################        #C. Construct item cooccurence matrix of size         #len(user_songs) X len(songs)        ###############################################        cooccurence_matrix = self.construct_cooccurence_matrix(user_songs, all_songs)                #######################################################        #D. Use the cooccurence matrix to make recommendations        #######################################################        user = \"\"        df_recommendations = self.generate_top_recommendations(user, cooccurence_matrix, all_songs, user_songs)                 return df_recommendations"
      ],
      "execution_count": null,
      "outputs": []
    },
    {
      "cell_type": "markdown",
      "metadata": {
        "id": "yguQeAXCObWv"
      },
      "source": [
        "Imported user data and song metadata"
      ]
    },
    {
      "cell_type": "code",
      "metadata": {
        "id": "E-L1COcJOcOx"
      },
      "source": [
        "triplets_file =  'https://static.turi.com/datasets/millionsong/10000.txt'\n",
        "songs_metadata_file = 'https://static.turi.com/datasets/millionsong/song_data.csv'\n",
        "song_df_1 = pd.read_table(triplets_file,header=None)\n",
        "song_df_1.columns = ['user_id', 'song_id', 'listen_count']\n",
        "#Read song metadatasong_df_2 =  pd.read_csv(songs_metadata_file)\n",
        "#Merge the two dataframes above to create input dataframe for recommender systemssong_df = pd.merge(song_df_1, song_df_2.drop_duplicates(['song_id']), on=\"song_id\", how=\"left\")\n",
        "#EXPLORE DATA (This show how many times a user )song_df.head()\n",
        "#Length of the datasetlen(song_df)"
      ],
      "execution_count": null,
      "outputs": []
    },
    {
      "cell_type": "code",
      "metadata": {
        "id": "tIw6MKONPItz"
      },
      "source": [
        " song_df_2 =  pd.read_csv(songs_metadata_file)"
      ],
      "execution_count": null,
      "outputs": []
    },
    {
      "cell_type": "code",
      "metadata": {
        "id": "mtBo3nBiPoc9"
      },
      "source": [
        "song_df = pd.merge(song_df_1, song_df_2.drop_duplicates(['song_id']), on=\"song_id\", how=\"left\")"
      ],
      "execution_count": null,
      "outputs": []
    },
    {
      "cell_type": "code",
      "metadata": {
        "colab": {
          "base_uri": "https://localhost:8080/",
          "height": 343
        },
        "id": "a8NZY7S9P_ky",
        "outputId": "c9fb41da-f695-4181-b8e0-d4ee602901ba"
      },
      "source": [
        " song_df.head()"
      ],
      "execution_count": null,
      "outputs": [
        {
          "output_type": "execute_result",
          "data": {
            "text/html": [
              "<div>\n",
              "<style scoped>\n",
              "    .dataframe tbody tr th:only-of-type {\n",
              "        vertical-align: middle;\n",
              "    }\n",
              "\n",
              "    .dataframe tbody tr th {\n",
              "        vertical-align: top;\n",
              "    }\n",
              "\n",
              "    .dataframe thead th {\n",
              "        text-align: right;\n",
              "    }\n",
              "</style>\n",
              "<table border=\"1\" class=\"dataframe\">\n",
              "  <thead>\n",
              "    <tr style=\"text-align: right;\">\n",
              "      <th></th>\n",
              "      <th>user_id</th>\n",
              "      <th>song_id</th>\n",
              "      <th>listen_count</th>\n",
              "      <th>title</th>\n",
              "      <th>release</th>\n",
              "      <th>artist_name</th>\n",
              "      <th>year</th>\n",
              "    </tr>\n",
              "  </thead>\n",
              "  <tbody>\n",
              "    <tr>\n",
              "      <th>0</th>\n",
              "      <td>b80344d063b5ccb3212f76538f3d9e43d87dca9e</td>\n",
              "      <td>SOAKIMP12A8C130995</td>\n",
              "      <td>1</td>\n",
              "      <td>The Cove</td>\n",
              "      <td>Thicker Than Water</td>\n",
              "      <td>Jack Johnson</td>\n",
              "      <td>0</td>\n",
              "    </tr>\n",
              "    <tr>\n",
              "      <th>1</th>\n",
              "      <td>b80344d063b5ccb3212f76538f3d9e43d87dca9e</td>\n",
              "      <td>SOBBMDR12A8C13253B</td>\n",
              "      <td>2</td>\n",
              "      <td>Entre Dos Aguas</td>\n",
              "      <td>Flamenco Para Niños</td>\n",
              "      <td>Paco De Lucia</td>\n",
              "      <td>1976</td>\n",
              "    </tr>\n",
              "    <tr>\n",
              "      <th>2</th>\n",
              "      <td>b80344d063b5ccb3212f76538f3d9e43d87dca9e</td>\n",
              "      <td>SOBXHDL12A81C204C0</td>\n",
              "      <td>1</td>\n",
              "      <td>Stronger</td>\n",
              "      <td>Graduation</td>\n",
              "      <td>Kanye West</td>\n",
              "      <td>2007</td>\n",
              "    </tr>\n",
              "    <tr>\n",
              "      <th>3</th>\n",
              "      <td>b80344d063b5ccb3212f76538f3d9e43d87dca9e</td>\n",
              "      <td>SOBYHAJ12A6701BF1D</td>\n",
              "      <td>1</td>\n",
              "      <td>Constellations</td>\n",
              "      <td>In Between Dreams</td>\n",
              "      <td>Jack Johnson</td>\n",
              "      <td>2005</td>\n",
              "    </tr>\n",
              "    <tr>\n",
              "      <th>4</th>\n",
              "      <td>b80344d063b5ccb3212f76538f3d9e43d87dca9e</td>\n",
              "      <td>SODACBL12A8C13C273</td>\n",
              "      <td>1</td>\n",
              "      <td>Learn To Fly</td>\n",
              "      <td>There Is Nothing Left To Lose</td>\n",
              "      <td>Foo Fighters</td>\n",
              "      <td>1999</td>\n",
              "    </tr>\n",
              "  </tbody>\n",
              "</table>\n",
              "</div>"
            ],
            "text/plain": [
              "                                    user_id  ...  year\n",
              "0  b80344d063b5ccb3212f76538f3d9e43d87dca9e  ...     0\n",
              "1  b80344d063b5ccb3212f76538f3d9e43d87dca9e  ...  1976\n",
              "2  b80344d063b5ccb3212f76538f3d9e43d87dca9e  ...  2007\n",
              "3  b80344d063b5ccb3212f76538f3d9e43d87dca9e  ...  2005\n",
              "4  b80344d063b5ccb3212f76538f3d9e43d87dca9e  ...  1999\n",
              "\n",
              "[5 rows x 7 columns]"
            ]
          },
          "metadata": {
            "tags": []
          },
          "execution_count": 18
        }
      ]
    },
    {
      "cell_type": "code",
      "metadata": {
        "id": "aYcEwKKOUCLi"
      },
      "source": [
        ""
      ],
      "execution_count": null,
      "outputs": []
    },
    {
      "cell_type": "code",
      "metadata": {
        "colab": {
          "base_uri": "https://localhost:8080/"
        },
        "id": "3DePi9t6QMhx",
        "outputId": "adb50342-41b9-4cce-d9a7-2d2bb2eab614"
      },
      "source": [
        " len(song_df)"
      ],
      "execution_count": null,
      "outputs": [
        {
          "output_type": "execute_result",
          "data": {
            "text/plain": [
              "2000000"
            ]
          },
          "metadata": {
            "tags": []
          },
          "execution_count": 19
        }
      ]
    },
    {
      "cell_type": "code",
      "metadata": {
        "id": "9CGKwZ_CQQZv"
      },
      "source": [
        " song_df = song_df.head(10000)"
      ],
      "execution_count": null,
      "outputs": []
    },
    {
      "cell_type": "code",
      "metadata": {
        "id": "GCmBzPIQQdF3"
      },
      "source": [
        "song_df['song'] = song_df['title'].map(str) + \" _ \" + song_df['artist_name']"
      ],
      "execution_count": null,
      "outputs": []
    },
    {
      "cell_type": "code",
      "metadata": {
        "colab": {
          "base_uri": "https://localhost:8080/",
          "height": 394
        },
        "id": "gBimMdDhQgYQ",
        "outputId": "7cf0c029-fab3-447a-83ef-c125c6b772af"
      },
      "source": [
        "song_df.head()"
      ],
      "execution_count": null,
      "outputs": [
        {
          "output_type": "execute_result",
          "data": {
            "text/html": [
              "<div>\n",
              "<style scoped>\n",
              "    .dataframe tbody tr th:only-of-type {\n",
              "        vertical-align: middle;\n",
              "    }\n",
              "\n",
              "    .dataframe tbody tr th {\n",
              "        vertical-align: top;\n",
              "    }\n",
              "\n",
              "    .dataframe thead th {\n",
              "        text-align: right;\n",
              "    }\n",
              "</style>\n",
              "<table border=\"1\" class=\"dataframe\">\n",
              "  <thead>\n",
              "    <tr style=\"text-align: right;\">\n",
              "      <th></th>\n",
              "      <th>user_id</th>\n",
              "      <th>song_id</th>\n",
              "      <th>listen_count</th>\n",
              "      <th>title</th>\n",
              "      <th>release</th>\n",
              "      <th>artist_name</th>\n",
              "      <th>year</th>\n",
              "      <th>song</th>\n",
              "    </tr>\n",
              "  </thead>\n",
              "  <tbody>\n",
              "    <tr>\n",
              "      <th>0</th>\n",
              "      <td>b80344d063b5ccb3212f76538f3d9e43d87dca9e</td>\n",
              "      <td>SOAKIMP12A8C130995</td>\n",
              "      <td>1</td>\n",
              "      <td>The Cove</td>\n",
              "      <td>Thicker Than Water</td>\n",
              "      <td>Jack Johnson</td>\n",
              "      <td>0</td>\n",
              "      <td>The Cove _ Jack Johnson</td>\n",
              "    </tr>\n",
              "    <tr>\n",
              "      <th>1</th>\n",
              "      <td>b80344d063b5ccb3212f76538f3d9e43d87dca9e</td>\n",
              "      <td>SOBBMDR12A8C13253B</td>\n",
              "      <td>2</td>\n",
              "      <td>Entre Dos Aguas</td>\n",
              "      <td>Flamenco Para Niños</td>\n",
              "      <td>Paco De Lucia</td>\n",
              "      <td>1976</td>\n",
              "      <td>Entre Dos Aguas _ Paco De Lucia</td>\n",
              "    </tr>\n",
              "    <tr>\n",
              "      <th>2</th>\n",
              "      <td>b80344d063b5ccb3212f76538f3d9e43d87dca9e</td>\n",
              "      <td>SOBXHDL12A81C204C0</td>\n",
              "      <td>1</td>\n",
              "      <td>Stronger</td>\n",
              "      <td>Graduation</td>\n",
              "      <td>Kanye West</td>\n",
              "      <td>2007</td>\n",
              "      <td>Stronger _ Kanye West</td>\n",
              "    </tr>\n",
              "    <tr>\n",
              "      <th>3</th>\n",
              "      <td>b80344d063b5ccb3212f76538f3d9e43d87dca9e</td>\n",
              "      <td>SOBYHAJ12A6701BF1D</td>\n",
              "      <td>1</td>\n",
              "      <td>Constellations</td>\n",
              "      <td>In Between Dreams</td>\n",
              "      <td>Jack Johnson</td>\n",
              "      <td>2005</td>\n",
              "      <td>Constellations _ Jack Johnson</td>\n",
              "    </tr>\n",
              "    <tr>\n",
              "      <th>4</th>\n",
              "      <td>b80344d063b5ccb3212f76538f3d9e43d87dca9e</td>\n",
              "      <td>SODACBL12A8C13C273</td>\n",
              "      <td>1</td>\n",
              "      <td>Learn To Fly</td>\n",
              "      <td>There Is Nothing Left To Lose</td>\n",
              "      <td>Foo Fighters</td>\n",
              "      <td>1999</td>\n",
              "      <td>Learn To Fly _ Foo Fighters</td>\n",
              "    </tr>\n",
              "  </tbody>\n",
              "</table>\n",
              "</div>"
            ],
            "text/plain": [
              "                                    user_id  ...                             song\n",
              "0  b80344d063b5ccb3212f76538f3d9e43d87dca9e  ...          The Cove _ Jack Johnson\n",
              "1  b80344d063b5ccb3212f76538f3d9e43d87dca9e  ...  Entre Dos Aguas _ Paco De Lucia\n",
              "2  b80344d063b5ccb3212f76538f3d9e43d87dca9e  ...            Stronger _ Kanye West\n",
              "3  b80344d063b5ccb3212f76538f3d9e43d87dca9e  ...    Constellations _ Jack Johnson\n",
              "4  b80344d063b5ccb3212f76538f3d9e43d87dca9e  ...      Learn To Fly _ Foo Fighters\n",
              "\n",
              "[5 rows x 8 columns]"
            ]
          },
          "metadata": {
            "tags": []
          },
          "execution_count": 23
        }
      ]
    },
    {
      "cell_type": "code",
      "metadata": {
        "colab": {
          "base_uri": "https://localhost:8080/",
          "height": 831
        },
        "id": "pfQPs_04Qp7F",
        "outputId": "141c46c6-b948-4467-876e-0dfea58c0cf8"
      },
      "source": [
        " #Most POPULAR Songs in the dataset\n",
        "song_grouped = song_df.groupby(['song']).agg({'listen_count' : 'count'}).reset_index() \n",
        "grouped_sum = song_grouped['listen_count'].sum()\n",
        "song_grouped['percentage'] = song_grouped['listen_count'].div(grouped_sum)*100 \n",
        "song_grouped.sort_values(['listen_count', 'song'], ascending = [0,1])"
      ],
      "execution_count": null,
      "outputs": [
        {
          "output_type": "execute_result",
          "data": {
            "text/html": [
              "<div>\n",
              "<style scoped>\n",
              "    .dataframe tbody tr th:only-of-type {\n",
              "        vertical-align: middle;\n",
              "    }\n",
              "\n",
              "    .dataframe tbody tr th {\n",
              "        vertical-align: top;\n",
              "    }\n",
              "\n",
              "    .dataframe thead th {\n",
              "        text-align: right;\n",
              "    }\n",
              "</style>\n",
              "<table border=\"1\" class=\"dataframe\">\n",
              "  <thead>\n",
              "    <tr style=\"text-align: right;\">\n",
              "      <th></th>\n",
              "      <th>song</th>\n",
              "      <th>listen_count</th>\n",
              "      <th>percentage</th>\n",
              "    </tr>\n",
              "  </thead>\n",
              "  <tbody>\n",
              "    <tr>\n",
              "      <th>3660</th>\n",
              "      <td>Sehr kosmisch _ Harmonia</td>\n",
              "      <td>45</td>\n",
              "      <td>0.45</td>\n",
              "    </tr>\n",
              "    <tr>\n",
              "      <th>4678</th>\n",
              "      <td>Undo _ Björk</td>\n",
              "      <td>32</td>\n",
              "      <td>0.32</td>\n",
              "    </tr>\n",
              "    <tr>\n",
              "      <th>5105</th>\n",
              "      <td>You're The One _ Dwight Yoakam</td>\n",
              "      <td>32</td>\n",
              "      <td>0.32</td>\n",
              "    </tr>\n",
              "    <tr>\n",
              "      <th>1071</th>\n",
              "      <td>Dog Days Are Over (Radio Edit) _ Florence + Th...</td>\n",
              "      <td>28</td>\n",
              "      <td>0.28</td>\n",
              "    </tr>\n",
              "    <tr>\n",
              "      <th>3655</th>\n",
              "      <td>Secrets _ OneRepublic</td>\n",
              "      <td>28</td>\n",
              "      <td>0.28</td>\n",
              "    </tr>\n",
              "    <tr>\n",
              "      <th>...</th>\n",
              "      <td>...</td>\n",
              "      <td>...</td>\n",
              "      <td>...</td>\n",
              "    </tr>\n",
              "    <tr>\n",
              "      <th>5139</th>\n",
              "      <td>high fives _ Four Tet</td>\n",
              "      <td>1</td>\n",
              "      <td>0.01</td>\n",
              "    </tr>\n",
              "    <tr>\n",
              "      <th>5140</th>\n",
              "      <td>in white rooms _ Booka Shade</td>\n",
              "      <td>1</td>\n",
              "      <td>0.01</td>\n",
              "    </tr>\n",
              "    <tr>\n",
              "      <th>5143</th>\n",
              "      <td>paranoid android _ Christopher O'Riley</td>\n",
              "      <td>1</td>\n",
              "      <td>0.01</td>\n",
              "    </tr>\n",
              "    <tr>\n",
              "      <th>5149</th>\n",
              "      <td>¿Lo Ves? [Piano Y Voz] _ Alejandro Sanz</td>\n",
              "      <td>1</td>\n",
              "      <td>0.01</td>\n",
              "    </tr>\n",
              "    <tr>\n",
              "      <th>5150</th>\n",
              "      <td>Época _ Gotan Project</td>\n",
              "      <td>1</td>\n",
              "      <td>0.01</td>\n",
              "    </tr>\n",
              "  </tbody>\n",
              "</table>\n",
              "<p>5151 rows × 3 columns</p>\n",
              "</div>"
            ],
            "text/plain": [
              "                                                   song  ...  percentage\n",
              "3660                           Sehr kosmisch _ Harmonia  ...        0.45\n",
              "4678                                       Undo _ Björk  ...        0.32\n",
              "5105                     You're The One _ Dwight Yoakam  ...        0.32\n",
              "1071  Dog Days Are Over (Radio Edit) _ Florence + Th...  ...        0.28\n",
              "3655                              Secrets _ OneRepublic  ...        0.28\n",
              "...                                                 ...  ...         ...\n",
              "5139                              high fives _ Four Tet  ...        0.01\n",
              "5140                       in white rooms _ Booka Shade  ...        0.01\n",
              "5143             paranoid android _ Christopher O'Riley  ...        0.01\n",
              "5149            ¿Lo Ves? [Piano Y Voz] _ Alejandro Sanz  ...        0.01\n",
              "5150                              Época _ Gotan Project  ...        0.01\n",
              "\n",
              "[5151 rows x 3 columns]"
            ]
          },
          "metadata": {
            "tags": []
          },
          "execution_count": 25
        }
      ]
    },
    {
      "cell_type": "code",
      "metadata": {
        "colab": {
          "base_uri": "https://localhost:8080/"
        },
        "id": "clhHD6d4Rakd",
        "outputId": "37d2f6f9-a2f6-4ca1-fa7e-78b09992749c"
      },
      "source": [
        "users = song_df['user_id'].unique()\n",
        "len(users)"
      ],
      "execution_count": null,
      "outputs": [
        {
          "output_type": "execute_result",
          "data": {
            "text/plain": [
              "365"
            ]
          },
          "metadata": {
            "tags": []
          },
          "execution_count": 26
        }
      ]
    },
    {
      "cell_type": "code",
      "metadata": {
        "colab": {
          "base_uri": "https://localhost:8080/"
        },
        "id": "bIJDZzC2RepD",
        "outputId": "372a3e41-d3d0-4142-b8ae-8d92d9dc9e2c"
      },
      "source": [
        "songs = song_df['song'].unique()\n",
        "len(songs)"
      ],
      "execution_count": null,
      "outputs": [
        {
          "output_type": "execute_result",
          "data": {
            "text/plain": [
              "5151"
            ]
          },
          "metadata": {
            "tags": []
          },
          "execution_count": 27
        }
      ]
    },
    {
      "cell_type": "code",
      "metadata": {
        "colab": {
          "base_uri": "https://localhost:8080/"
        },
        "id": "dH7XUKDIRjRN",
        "outputId": "16dc126d-972e-46f7-ac0d-8ee5d448fd15"
      },
      "source": [
        "train_data, test_data = train_test_split(song_df , test_size = 0.20, random_state = 0)\n",
        "print(train_data.head(5))"
      ],
      "execution_count": null,
      "outputs": [
        {
          "output_type": "stream",
          "text": [
            "                                       user_id  ...                                   song\n",
            "7389  94d5bdc37683950e90c56c9b32721edb5d347600  ...          Half Of My Heart _ John Mayer\n",
            "9275  1012ecfd277b96487ed8357d02fa8326b13696a5  ...  The Beautiful People _ Marilyn Manson\n",
            "2995  15415fa2745b344bce958967c346f2a89f792f63  ...       Sanctify Yourself _ Simple Minds\n",
            "5316  ffadf9297a99945c0513cd87939d91d8b602936b  ...       Heart Cooks Brain _ Modest Mouse\n",
            "356   5a905f000fc1ff3df7ca807d57edb608863db05d  ...                Rorol _ Octopus Project\n",
            "\n",
            "[5 rows x 8 columns]\n"
          ],
          "name": "stdout"
        }
      ]
    },
    {
      "cell_type": "code",
      "metadata": {
        "id": "xx9bY7lfUE2H"
      },
      "source": [
        " \n",
        "class popularity_recommender_py():\n",
        "    def __init__(self):\n",
        "        self.train_data = None\n",
        "        self.user_id = None\n",
        "        self.item_id = None\n",
        "        self.popularity_recommendations = None\n",
        "        \n",
        "    #Create the popularity based recommender system model\n",
        "    def create(self, train_data, user_id, item_id):\n",
        "        self.train_data = train_data\n",
        "        self.user_id = user_id\n",
        "        self.item_id = item_id\n",
        " \n",
        "        #Get a count of user_ids for each unique song as recommendation score\n",
        "        train_data_grouped = train_data.groupby([self.item_id]).agg({self.user_id: 'count'}).reset_index()\n",
        "        train_data_grouped.rename(columns = {'user_id': 'score'},inplace=True)\n",
        "    \n",
        "        #Sort the songs based upon recommendation score\n",
        "        train_data_sort = train_data_grouped.sort_values(['score', self.item_id], ascending = [0,1])\n",
        "    \n",
        "        #Generate a recommendation rank based upon score\n",
        "        train_data_sort['Rank'] = train_data_sort['score'].rank(ascending=0, method='first')\n",
        "        \n",
        "        #Get the top 10 recommendations\n",
        "        self.popularity_recommendations = train_data_sort.head(10)\n",
        " \n",
        "    #Use the popularity based recommender system model to\n",
        "    #make recommendations\n",
        "    def recommend(self, user_id):    \n",
        "        user_recommendations = self.popularity_recommendations\n",
        "        \n",
        "        #Add user_id column for which the recommendations are being generated\n",
        "        user_recommendations['user_id'] = user_id\n",
        "    \n",
        "        #Bring user_id column to the front\n",
        "        cols = user_recommendations.columns.tolist()\n",
        "        cols = cols[-1:] + cols[:-1]\n",
        "        user_recommendations = user_recommendations[cols]\n",
        "        \n",
        "        return user_recommendations\n",
        "    \n",
        " \n",
        "#Class for Item similarity based Recommender System model\n",
        "class item_similarity_recommender_py():\n",
        "    def __init__(self):\n",
        "        self.train_data = None\n",
        "        self.user_id = None\n",
        "        self.item_id = None\n",
        "        self.cooccurence_matrix = None\n",
        "        self.songs_dict = None\n",
        "        self.rev_songs_dict = None\n",
        "        self.item_similarity_recommendations = None\n",
        "        \n",
        "    #Get unique items (songs) corresponding to a given user\n",
        "    def get_user_items(self, user):\n",
        "        user_data = self.train_data[self.train_data[self.user_id] == user]\n",
        "        user_items = list(user_data[self.item_id].unique())\n",
        "        \n",
        "        return user_items\n",
        "        \n",
        "    #Get unique users for a given item (song)\n",
        "    def get_item_users(self, item):\n",
        "        item_data = self.train_data[self.train_data[self.item_id] == item]\n",
        "        item_users = set(item_data[self.user_id].unique())\n",
        "            \n",
        "        return item_users\n",
        "        \n",
        "    #Get unique items (songs) in the training data\n",
        "    def get_all_items_train_data(self):\n",
        "        all_items = list(self.train_data[self.item_id].unique())\n",
        "            \n",
        "        return all_items\n",
        "        \n",
        "    #Construct cooccurence matrix\n",
        "    def construct_cooccurence_matrix(self, user_songs, all_songs):\n",
        "            \n",
        "        ####################################\n",
        "        #Get users for all songs in user_songs.\n",
        "        ####################################\n",
        "        user_songs_users = []        \n",
        "        for i in range(0, len(user_songs)):\n",
        "            user_songs_users.append(self.get_item_users(user_songs[i]))\n",
        "            \n",
        "        ###############################################\n",
        "        #Initialize the item cooccurence matrix of size \n",
        "        #len(user_songs) X len(songs)\n",
        "        ###############################################\n",
        "        cooccurence_matrix = np.matrix(np.zeros(shape=(len(user_songs), len(all_songs))), float)\n",
        "           \n",
        "        #############################################################\n",
        "        #Calculate similarity between user songs and all unique songs\n",
        "        #in the training data\n",
        "        #############################################################\n",
        "        for i in range(0,len(all_songs)):\n",
        "            #Calculate unique listeners (users) of song (item) i\n",
        "            songs_i_data = self.train_data[self.train_data[self.item_id] == all_songs[i]]\n",
        "            users_i = set(songs_i_data[self.user_id].unique())\n",
        "            \n",
        "            for j in range(0,len(user_songs)):       \n",
        "                    \n",
        "                #Get unique listeners (users) of song (item) j\n",
        "                users_j = user_songs_users[j]\n",
        "                    \n",
        "                #Calculate intersection of listeners of songs i and j\n",
        "                users_intersection = users_i.intersection(users_j)\n",
        "                \n",
        "                #Calculate cooccurence_matrix[i,j] as Jaccard Index\n",
        "                if len(users_intersection) != 0:\n",
        "                    #Calculate union of listeners of songs i and j\n",
        "                    users_union = users_i.union(users_j)\n",
        "                    \n",
        "                    cooccurence_matrix[j,i] = float(len(users_intersection))/float(len(users_union))\n",
        "                else:\n",
        "                    cooccurence_matrix[j,i] = 0\n",
        "                    \n",
        "        \n",
        "        return cooccurence_matrix\n",
        " \n",
        "    \n",
        "    #Use the cooccurence matrix to make top recommendations\n",
        "    def generate_top_recommendations(self, user, cooccurence_matrix, all_songs, user_songs):\n",
        "        print(\"Non zero values in cooccurence_matrix :%d\" % np.count_nonzero(cooccurence_matrix))\n",
        "        \n",
        "        #Calculate a weighted average of the scores in cooccurence matrix for all user songs.\n",
        "        user_sim_scores = cooccurence_matrix.sum(axis=0)/float(cooccurence_matrix.shape[0])\n",
        "        user_sim_scores = np.array(user_sim_scores)[0].tolist()\n",
        " \n",
        "        #Sort the indices of user_sim_scores based upon their value\n",
        "        #Also maintain the corresponding score\n",
        "        sort_index = sorted(((e,i) for i,e in enumerate(list(user_sim_scores))), reverse=True)\n",
        "    \n",
        "        #Create a dataframe from the following\n",
        "        columns = ['user_id', 'song', 'score', 'rank']\n",
        "        #index = np.arange(1) # array of numbers for the number of samples\n",
        "        df = pandas.DataFrame(columns=columns)\n",
        "         \n",
        "        #Fill the dataframe with top 10 item based recommendations\n",
        "        rank = 1 \n",
        "        for i in range(0,len(sort_index)):\n",
        "            if ~np.isnan(sort_index[i][0]) and all_songs[sort_index[i][1]] not in user_songs and rank <= 10:\n",
        "                df.loc[len(df)]=[user,all_songs[sort_index[i][1]],sort_index[i][0],rank]\n",
        "                rank = rank+1\n",
        "        \n",
        "        #Handle the case where there are no recommendations\n",
        "        if df.shape[0] == 0:\n",
        "            print(\"The current user has no songs for training the item similarity based recommendation model.\")\n",
        "            return -1\n",
        "        else:\n",
        "            return df\n",
        " \n",
        "    #Create the item similarity based recommender system model\n",
        "    def create(self, train_data, user_id, item_id):\n",
        "        self.train_data = train_data\n",
        "        self.user_id = user_id\n",
        "        self.item_id = item_id\n",
        " \n",
        "    #Use the item similarity based recommender system model to\n",
        "    #make recommendations\n",
        "    def recommend(self, user):\n",
        "        \n",
        "        ########################################\n",
        "        #A. Get all unique songs for this user\n",
        "        ########################################\n",
        "        user_songs = self.get_user_items(user)    \n",
        "            \n",
        "        print(\"No. of unique songs for the user: %d\" % len(user_songs))\n",
        "        \n",
        "        ######################################################\n",
        "        #B. Get all unique items (songs) in the training data\n",
        "        ######################################################\n",
        "        all_songs = self.get_all_items_train_data()\n",
        "        \n",
        "        print(\"no. of unique songs in the training set: %d\" % len(all_songs))\n",
        "         \n",
        "        ###############################################\n",
        "        #C. Construct item cooccurence matrix of size \n",
        "        #len(user_songs) X len(songs)\n",
        "        ###############################################\n",
        "        cooccurence_matrix = self.construct_cooccurence_matrix(user_songs, all_songs)\n",
        "        \n",
        "        #######################################################\n",
        "        #D. Use the cooccurence matrix to make recommendations\n",
        "        #######################################################\n",
        "        df_recommendations = self.generate_top_recommendations(user, cooccurence_matrix, all_songs, user_songs)\n",
        "                \n",
        "        return df_recommendations\n",
        "    \n",
        "    #Get similar items to given items\n",
        "    def get_similar_items(self, item_list):\n",
        "        \n",
        "        user_songs = item_list\n",
        "        \n",
        "        ######################################################\n",
        "        #B. Get all unique items (songs) in the training data\n",
        "        ######################################################\n",
        "        all_songs = self.get_all_items_train_data()\n",
        "        \n",
        "        print(\"no. of unique songs in the training set: %d\" % len(all_songs))\n",
        "         \n",
        "        ###############################################\n",
        "        #C. Construct item cooccurence matrix of size \n",
        "        #len(user_songs) X len(songs)\n",
        "        ###############################################\n",
        "        cooccurence_matrix = self.construct_cooccurence_matrix(user_songs, all_songs)\n",
        "        \n",
        "        #######################################################\n",
        "        #D. Use the cooccurence matrix to make recommendations\n",
        "        #######################################################\n",
        "        user = \"\"\n",
        "        df_recommendations = self.generate_top_recommendations(user, cooccurence_matrix, all_songs, user_songs)\n",
        "         \n",
        "        return df_recommendations"
      ],
      "execution_count": null,
      "outputs": []
    },
    {
      "cell_type": "code",
      "metadata": {
        "id": "gPBISdwRUInT"
      },
      "source": [
        " pm = popularity_recommender_py()"
      ],
      "execution_count": null,
      "outputs": []
    },
    {
      "cell_type": "code",
      "metadata": {
        "id": "tBao6gk7URD4"
      },
      "source": [
        " pm.create(train_data, 'user_id', 'song')"
      ],
      "execution_count": null,
      "outputs": []
    },
    {
      "cell_type": "code",
      "metadata": {
        "colab": {
          "base_uri": "https://localhost:8080/",
          "height": 771
        },
        "id": "9M_x1aHtUWAl",
        "outputId": "6e5e2970-0d25-484a-9ba6-e4c5ec27ef4e"
      },
      "source": [
        " user_id = users[8]\n",
        "pm.recommend(user_id)"
      ],
      "execution_count": null,
      "outputs": [
        {
          "output_type": "execute_result",
          "data": {
            "text/html": [
              "<div>\n",
              "<style scoped>\n",
              "    .dataframe tbody tr th:only-of-type {\n",
              "        vertical-align: middle;\n",
              "    }\n",
              "\n",
              "    .dataframe tbody tr th {\n",
              "        vertical-align: top;\n",
              "    }\n",
              "\n",
              "    .dataframe thead th {\n",
              "        text-align: right;\n",
              "    }\n",
              "</style>\n",
              "<table border=\"1\" class=\"dataframe\">\n",
              "  <thead>\n",
              "    <tr style=\"text-align: right;\">\n",
              "      <th></th>\n",
              "      <th>user_id</th>\n",
              "      <th>song</th>\n",
              "      <th>score</th>\n",
              "      <th>Rank</th>\n",
              "    </tr>\n",
              "  </thead>\n",
              "  <tbody>\n",
              "    <tr>\n",
              "      <th>3194</th>\n",
              "      <td>9bb911319fbc04f01755814cb5edb21df3d1a336</td>\n",
              "      <td>Sehr kosmisch _ Harmonia</td>\n",
              "      <td>37</td>\n",
              "      <td>1.0</td>\n",
              "    </tr>\n",
              "    <tr>\n",
              "      <th>4083</th>\n",
              "      <td>9bb911319fbc04f01755814cb5edb21df3d1a336</td>\n",
              "      <td>Undo _ Björk</td>\n",
              "      <td>27</td>\n",
              "      <td>2.0</td>\n",
              "    </tr>\n",
              "    <tr>\n",
              "      <th>931</th>\n",
              "      <td>9bb911319fbc04f01755814cb5edb21df3d1a336</td>\n",
              "      <td>Dog Days Are Over (Radio Edit) _ Florence + Th...</td>\n",
              "      <td>24</td>\n",
              "      <td>3.0</td>\n",
              "    </tr>\n",
              "    <tr>\n",
              "      <th>4443</th>\n",
              "      <td>9bb911319fbc04f01755814cb5edb21df3d1a336</td>\n",
              "      <td>You're The One _ Dwight Yoakam</td>\n",
              "      <td>24</td>\n",
              "      <td>4.0</td>\n",
              "    </tr>\n",
              "    <tr>\n",
              "      <th>3034</th>\n",
              "      <td>9bb911319fbc04f01755814cb5edb21df3d1a336</td>\n",
              "      <td>Revelry _ Kings Of Leon</td>\n",
              "      <td>21</td>\n",
              "      <td>5.0</td>\n",
              "    </tr>\n",
              "    <tr>\n",
              "      <th>3189</th>\n",
              "      <td>9bb911319fbc04f01755814cb5edb21df3d1a336</td>\n",
              "      <td>Secrets _ OneRepublic</td>\n",
              "      <td>21</td>\n",
              "      <td>6.0</td>\n",
              "    </tr>\n",
              "    <tr>\n",
              "      <th>4112</th>\n",
              "      <td>9bb911319fbc04f01755814cb5edb21df3d1a336</td>\n",
              "      <td>Use Somebody _ Kings Of Leon</td>\n",
              "      <td>21</td>\n",
              "      <td>7.0</td>\n",
              "    </tr>\n",
              "    <tr>\n",
              "      <th>1207</th>\n",
              "      <td>9bb911319fbc04f01755814cb5edb21df3d1a336</td>\n",
              "      <td>Fireflies _ Charttraxx Karaoke</td>\n",
              "      <td>20</td>\n",
              "      <td>8.0</td>\n",
              "    </tr>\n",
              "    <tr>\n",
              "      <th>1577</th>\n",
              "      <td>9bb911319fbc04f01755814cb5edb21df3d1a336</td>\n",
              "      <td>Hey_ Soul Sister _ Train</td>\n",
              "      <td>19</td>\n",
              "      <td>9.0</td>\n",
              "    </tr>\n",
              "    <tr>\n",
              "      <th>1626</th>\n",
              "      <td>9bb911319fbc04f01755814cb5edb21df3d1a336</td>\n",
              "      <td>Horn Concerto No. 4 in E flat K495: II. Romanc...</td>\n",
              "      <td>19</td>\n",
              "      <td>10.0</td>\n",
              "    </tr>\n",
              "  </tbody>\n",
              "</table>\n",
              "</div>"
            ],
            "text/plain": [
              "                                       user_id  ...  Rank\n",
              "3194  9bb911319fbc04f01755814cb5edb21df3d1a336  ...   1.0\n",
              "4083  9bb911319fbc04f01755814cb5edb21df3d1a336  ...   2.0\n",
              "931   9bb911319fbc04f01755814cb5edb21df3d1a336  ...   3.0\n",
              "4443  9bb911319fbc04f01755814cb5edb21df3d1a336  ...   4.0\n",
              "3034  9bb911319fbc04f01755814cb5edb21df3d1a336  ...   5.0\n",
              "3189  9bb911319fbc04f01755814cb5edb21df3d1a336  ...   6.0\n",
              "4112  9bb911319fbc04f01755814cb5edb21df3d1a336  ...   7.0\n",
              "1207  9bb911319fbc04f01755814cb5edb21df3d1a336  ...   8.0\n",
              "1577  9bb911319fbc04f01755814cb5edb21df3d1a336  ...   9.0\n",
              "1626  9bb911319fbc04f01755814cb5edb21df3d1a336  ...  10.0\n",
              "\n",
              "[10 rows x 4 columns]"
            ]
          },
          "metadata": {
            "tags": []
          },
          "execution_count": 36
        }
      ]
    },
    {
      "cell_type": "code",
      "metadata": {
        "id": "xCWIHEUEUfIo"
      },
      "source": [
        "is_model = item_similarity_recommender_py()\n",
        "is_model.create(train_data, 'user_id', 'song')"
      ],
      "execution_count": null,
      "outputs": []
    },
    {
      "cell_type": "code",
      "metadata": {
        "colab": {
          "base_uri": "https://localhost:8080/"
        },
        "id": "5yJ1tctqUytQ",
        "outputId": "6bfb727b-fe26-4611-bd9e-9d370aaf5cea"
      },
      "source": [
        "user_id = users[5]\n",
        "user_items = is_model.get_user_items(user_id)\n",
        "print(\"*******************************************************************\")\n",
        "print(\"-----------------------Trainning data songs for the user userid: %s:\" % user_id)\n",
        "print(\"******\")"
      ],
      "execution_count": null,
      "outputs": [
        {
          "output_type": "stream",
          "text": [
            "*******************************************************************\n",
            "-----------------------Trainning data songs for the user userid: 4bd88bfb25263a75bbdd467e74018f4ae570e5df:\n",
            "******\n"
          ],
          "name": "stdout"
        }
      ]
    },
    {
      "cell_type": "code",
      "metadata": {
        "colab": {
          "base_uri": "https://localhost:8080/"
        },
        "id": "b5MaqyZIVN_u",
        "outputId": "806cae5e-9273-41c3-edf2-444333849050"
      },
      "source": [
        " for user_item in user_items: \n",
        "   print(user_item)\n",
        "   print(\"*******************************************************************\")\n",
        "   print(\"Recommendation INPROCESS :\")\n",
        "   print(\"*************************\")"
      ],
      "execution_count": null,
      "outputs": [
        {
          "output_type": "stream",
          "text": [
            "Just Lose It _ Eminem\n",
            "*******************************************************************\n",
            "Recommendation INPROCESS :\n",
            "*************************\n",
            "Without Me _ Eminem\n",
            "*******************************************************************\n",
            "Recommendation INPROCESS :\n",
            "*************************\n",
            "16 Candles _ The Crests\n",
            "*******************************************************************\n",
            "Recommendation INPROCESS :\n",
            "*************************\n",
            "Speechless _ Lady GaGa\n",
            "*******************************************************************\n",
            "Recommendation INPROCESS :\n",
            "*************************\n",
            "Push It _ Salt-N-Pepa\n",
            "*******************************************************************\n",
            "Recommendation INPROCESS :\n",
            "*************************\n",
            "Ghosts 'n' Stuff (Original Instrumental Mix) _ Deadmau5\n",
            "*******************************************************************\n",
            "Recommendation INPROCESS :\n",
            "*************************\n",
            "Say My Name _ Destiny's Child\n",
            "*******************************************************************\n",
            "Recommendation INPROCESS :\n",
            "*************************\n",
            "My Dad's Gone Crazy _ Eminem / Hailie Jade\n",
            "*******************************************************************\n",
            "Recommendation INPROCESS :\n",
            "*************************\n",
            "The Real Slim Shady _ Eminem\n",
            "*******************************************************************\n",
            "Recommendation INPROCESS :\n",
            "*************************\n",
            "Somebody To Love _ Justin Bieber\n",
            "*******************************************************************\n",
            "Recommendation INPROCESS :\n",
            "*************************\n",
            "Forgive Me _ Leona Lewis\n",
            "*******************************************************************\n",
            "Recommendation INPROCESS :\n",
            "*************************\n",
            "Missing You _ John Waite\n",
            "*******************************************************************\n",
            "Recommendation INPROCESS :\n",
            "*************************\n",
            "Ya Nada Queda _ Kudai\n",
            "*******************************************************************\n",
            "Recommendation INPROCESS :\n",
            "*************************\n"
          ],
          "name": "stdout"
        }
      ]
    },
    {
      "cell_type": "code",
      "metadata": {
        "colab": {
          "base_uri": "https://localhost:8080/",
          "height": 635
        },
        "id": "OIg4VLQRWCDp",
        "outputId": "b639de27-0c51-4b3c-da3a-cb3c8242dcd0"
      },
      "source": [
        "x = is_model.recommend(user_id)"
      ],
      "execution_count": null,
      "outputs": [
        {
          "output_type": "stream",
          "text": [
            "No. of unique songs for the user: 13\n",
            "no. of unique songs in the training set: 4483\n",
            "Non zero values in cooccurence_matrix :2097\n"
          ],
          "name": "stdout"
        },
        {
          "output_type": "error",
          "ename": "NameError",
          "evalue": "ignored",
          "traceback": [
            "\u001b[0;31m---------------------------------------------------------------------------\u001b[0m",
            "\u001b[0;31mNameError\u001b[0m                                 Traceback (most recent call last)",
            "\u001b[0;32m<ipython-input-45-ddfdd98a1ea1>\u001b[0m in \u001b[0;36m<module>\u001b[0;34m()\u001b[0m\n\u001b[0;32m----> 1\u001b[0;31m \u001b[0mx\u001b[0m \u001b[0;34m=\u001b[0m \u001b[0mis_model\u001b[0m\u001b[0;34m.\u001b[0m\u001b[0mrecommend\u001b[0m\u001b[0;34m(\u001b[0m\u001b[0muser_id\u001b[0m\u001b[0;34m)\u001b[0m\u001b[0;34m\u001b[0m\u001b[0;34m\u001b[0m\u001b[0m\n\u001b[0m",
            "\u001b[0;32m<ipython-input-32-91016cefe4ee>\u001b[0m in \u001b[0;36mrecommend\u001b[0;34m(self, user)\u001b[0m\n\u001b[1;32m    183\u001b[0m        \u001b[0;31m#D. Use the cooccurence matrix to make recommendations\u001b[0m\u001b[0;34m\u001b[0m\u001b[0;34m\u001b[0m\u001b[0;34m\u001b[0m\u001b[0m\n\u001b[1;32m    184\u001b[0m        \u001b[0;31m#######################################################\u001b[0m\u001b[0;34m\u001b[0m\u001b[0;34m\u001b[0m\u001b[0;34m\u001b[0m\u001b[0m\n\u001b[0;32m--> 185\u001b[0;31m        \u001b[0mdf_recommendations\u001b[0m \u001b[0;34m=\u001b[0m \u001b[0mself\u001b[0m\u001b[0;34m.\u001b[0m\u001b[0mgenerate_top_recommendations\u001b[0m\u001b[0;34m(\u001b[0m\u001b[0muser\u001b[0m\u001b[0;34m,\u001b[0m \u001b[0mcooccurence_matrix\u001b[0m\u001b[0;34m,\u001b[0m \u001b[0mall_songs\u001b[0m\u001b[0;34m,\u001b[0m \u001b[0muser_songs\u001b[0m\u001b[0;34m)\u001b[0m\u001b[0;34m\u001b[0m\u001b[0;34m\u001b[0m\u001b[0m\n\u001b[0m\u001b[1;32m    186\u001b[0m \u001b[0;34m\u001b[0m\u001b[0m\n\u001b[1;32m    187\u001b[0m        \u001b[0;32mreturn\u001b[0m \u001b[0mdf_recommendations\u001b[0m\u001b[0;34m\u001b[0m\u001b[0;34m\u001b[0m\u001b[0m\n",
            "\u001b[0;32m<ipython-input-32-91016cefe4ee>\u001b[0m in \u001b[0;36mgenerate_top_recommendations\u001b[0;34m(self, user, cooccurence_matrix, all_songs, user_songs)\u001b[0m\n\u001b[1;32m    134\u001b[0m        \u001b[0mcolumns\u001b[0m \u001b[0;34m=\u001b[0m \u001b[0;34m[\u001b[0m\u001b[0;34m'user_id'\u001b[0m\u001b[0;34m,\u001b[0m \u001b[0;34m'song'\u001b[0m\u001b[0;34m,\u001b[0m \u001b[0;34m'score'\u001b[0m\u001b[0;34m,\u001b[0m \u001b[0;34m'rank'\u001b[0m\u001b[0;34m]\u001b[0m\u001b[0;34m\u001b[0m\u001b[0;34m\u001b[0m\u001b[0m\n\u001b[1;32m    135\u001b[0m        \u001b[0;31m#index = np.arange(1) # array of numbers for the number of samples\u001b[0m\u001b[0;34m\u001b[0m\u001b[0;34m\u001b[0m\u001b[0;34m\u001b[0m\u001b[0m\n\u001b[0;32m--> 136\u001b[0;31m        \u001b[0mdf\u001b[0m \u001b[0;34m=\u001b[0m \u001b[0mpandas\u001b[0m\u001b[0;34m.\u001b[0m\u001b[0mDataFrame\u001b[0m\u001b[0;34m(\u001b[0m\u001b[0mcolumns\u001b[0m\u001b[0;34m=\u001b[0m\u001b[0mcolumns\u001b[0m\u001b[0;34m)\u001b[0m\u001b[0;34m\u001b[0m\u001b[0;34m\u001b[0m\u001b[0m\n\u001b[0m\u001b[1;32m    137\u001b[0m \u001b[0;34m\u001b[0m\u001b[0m\n\u001b[1;32m    138\u001b[0m        \u001b[0;31m#Fill the dataframe with top 10 item based recommendations\u001b[0m\u001b[0;34m\u001b[0m\u001b[0;34m\u001b[0m\u001b[0;34m\u001b[0m\u001b[0m\n",
            "\u001b[0;31mNameError\u001b[0m: name 'pandas' is not defined"
          ]
        }
      ]
    },
    {
      "cell_type": "code",
      "metadata": {
        "id": "CUcHTR9lWRvH"
      },
      "source": [
        "song = 'Yellow _ Coldplay'\n",
        "is_model.get_similar_items([song])"
      ],
      "execution_count": null,
      "outputs": []
    },
    {
      "cell_type": "code",
      "metadata": {
        "id": "eXRs2q2CWSi4"
      },
      "source": [
        " import pylab as pl"
      ],
      "execution_count": null,
      "outputs": []
    },
    {
      "cell_type": "code",
      "metadata": {
        "id": "rHhtc1E0Wcfn"
      },
      "source": [
        " #CODE to Plot precision recall curve import pylab as pl\n",
        "def plot_precision_recall(m1_precision_list, m1_recall_list, m1_label, m2_precision_list, m2_recall_list, m2_label): \n",
        "   pl.clf()  \n",
        "   pl.plot(m1_recall_list, m1_precision_list, label=m1_label)  \n",
        "   pl.plot(m2_recall_list, m2_precision_list, label=m2_label)  \n",
        "   pl.xlabel('Recall') \n",
        "   pl.ylabel('Precision')\n",
        "   pl.ylim([0.0, 0.20])    \n",
        "   pl.xlim([0.0, 0.20])  \n",
        "   pl.title('Precision-Recall curve') \n",
        "   pl.legend(loc = 9, bbox_to_anchor=(0.5, -0.2)) \n",
        "   pl.show()"
      ],
      "execution_count": null,
      "outputs": []
    },
    {
      "cell_type": "code",
      "metadata": {
        "id": "fU4d2x2SXU3y"
      },
      "source": [
        "pl.show()"
      ],
      "execution_count": null,
      "outputs": []
    }
  ]
}